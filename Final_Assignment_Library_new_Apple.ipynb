{
  "nbformat": 4,
  "nbformat_minor": 0,
  "metadata": {
    "kernelspec": {
      "display_name": "Python 3",
      "language": "python",
      "name": "python3"
    },
    "language_info": {
      "codemirror_mode": {
        "name": "ipython",
        "version": 3
      },
      "file_extension": ".py",
      "mimetype": "text/x-python",
      "name": "python",
      "nbconvert_exporter": "python",
      "pygments_lexer": "ipython3",
      "version": "3.8.0"
    },
    "colab": {
      "name": "Final_Assignment Library_new_Apple.ipynb",
      "provenance": [],
      "collapsed_sections": [],
      "include_colab_link": true
    }
  },
  "cells": [
    {
      "cell_type": "markdown",
      "metadata": {
        "id": "view-in-github",
        "colab_type": "text"
      },
      "source": [
        "<a href=\"https://colab.research.google.com/github/A-Alexandrov2021/Projects/blob/main/Final_Assignment_Library_new_Apple.ipynb\" target=\"_parent\"><img src=\"https://colab.research.google.com/assets/colab-badge.svg\" alt=\"Open In Colab\"/></a>"
      ]
    },
    {
      "cell_type": "markdown",
      "metadata": {
        "id": "OjqJsvNP5DXM"
      },
      "source": [
        "<center>\n",
        "    <img src=\"https://s3-api.us-geo.objectstorage.softlayer.net/cf-courses-data/CognitiveClass/Logos/organization_logo/organization_logo.png\" width=\"300\" alt=\"cognitiveclass.ai logo\"  />\n",
        "</center>\n"
      ]
    },
    {
      "cell_type": "markdown",
      "metadata": {
        "id": "8xWt3X5H5DXP"
      },
      "source": [
        "<h1>Extracting Stock Data Using a Python Library</h1>\n"
      ]
    },
    {
      "cell_type": "markdown",
      "metadata": {
        "id": "NdPog9dY5DXP"
      },
      "source": [
        "A company's stock share is a piece of the company more precisely:\n",
        "\n",
        "<p><b>A stock (also known as equity) is a security that represents the ownership of a fraction of a corporation. This\n",
        "entitles the owner of the stock to a proportion of the corporation's assets and profits equal to how much stock they own. Units of stock are called \"shares.\" [1]</p></b>\n",
        "\n",
        "An investor can buy a stock and sell it later. If the stock price increases, the investor profits, If it decreases,the investor with incur a loss.  Determining the stock price is complex; it depends on the number of outstanding shares, the size of the company's future profits, and much more. People trade stocks throughout the day the stock ticker is a report of the price of a certain stock, updated continuously throughout the trading session by the various stock market exchanges.\n",
        "\n",
        "<p>You are a data scientist working for a hedge fund; it's your job to determine any suspicious stock activity. In this lab you will extract stock data using a Python library. We will use the <coode>yfinance</code> library, it allows us to extract data for stocks returning data in a pandas dataframe. You will use the lab to extract.</p>\n"
      ]
    },
    {
      "cell_type": "markdown",
      "metadata": {
        "id": "uT28Iyuz5DXQ"
      },
      "source": [
        "<h2>Table of Contents</h2>\n",
        "<div class=\"alert alert-block alert-info\" style=\"margin-top: 20px\">\n",
        "    <ul>\n",
        "        <li>Using yfinance to Extract Stock Info</li>\n",
        "        <li>Using yfinance to Extract Historical Share Price Data</li>\n",
        "        <li>Using yfinance to Extract Historical Dividends Data</li>\n",
        "        <li>Exercise</li>\n",
        "    </ul>\n",
        "<p>\n",
        "    Estimated Time Needed: <strong>30 min</strong></p>\n",
        "</div>\n",
        "\n",
        "<hr>\n"
      ]
    },
    {
      "cell_type": "code",
      "metadata": {
        "colab": {
          "base_uri": "https://localhost:8080/"
        },
        "id": "iJKahUHF5DXQ",
        "outputId": "da4a8fbe-bb88-42e8-b08e-6a392b9fcb5b"
      },
      "source": [
        "!pip install yfinance\n",
        "!pip install pandas"
      ],
      "execution_count": 35,
      "outputs": [
        {
          "output_type": "stream",
          "name": "stdout",
          "text": [
            "Requirement already satisfied: yfinance in /usr/local/lib/python3.7/dist-packages (0.1.63)\n",
            "Requirement already satisfied: numpy>=1.15 in /usr/local/lib/python3.7/dist-packages (from yfinance) (1.19.5)\n",
            "Requirement already satisfied: pandas>=0.24 in /usr/local/lib/python3.7/dist-packages (from yfinance) (1.1.5)\n",
            "Requirement already satisfied: multitasking>=0.0.7 in /usr/local/lib/python3.7/dist-packages (from yfinance) (0.0.9)\n",
            "Requirement already satisfied: requests>=2.20 in /usr/local/lib/python3.7/dist-packages (from yfinance) (2.23.0)\n",
            "Requirement already satisfied: lxml>=4.5.1 in /usr/local/lib/python3.7/dist-packages (from yfinance) (4.6.3)\n",
            "Requirement already satisfied: pytz>=2017.2 in /usr/local/lib/python3.7/dist-packages (from pandas>=0.24->yfinance) (2018.9)\n",
            "Requirement already satisfied: python-dateutil>=2.7.3 in /usr/local/lib/python3.7/dist-packages (from pandas>=0.24->yfinance) (2.8.2)\n",
            "Requirement already satisfied: six>=1.5 in /usr/local/lib/python3.7/dist-packages (from python-dateutil>=2.7.3->pandas>=0.24->yfinance) (1.15.0)\n",
            "Requirement already satisfied: certifi>=2017.4.17 in /usr/local/lib/python3.7/dist-packages (from requests>=2.20->yfinance) (2021.5.30)\n",
            "Requirement already satisfied: idna<3,>=2.5 in /usr/local/lib/python3.7/dist-packages (from requests>=2.20->yfinance) (2.10)\n",
            "Requirement already satisfied: chardet<4,>=3.0.2 in /usr/local/lib/python3.7/dist-packages (from requests>=2.20->yfinance) (3.0.4)\n",
            "Requirement already satisfied: urllib3!=1.25.0,!=1.25.1,<1.26,>=1.21.1 in /usr/local/lib/python3.7/dist-packages (from requests>=2.20->yfinance) (1.24.3)\n",
            "Requirement already satisfied: pandas in /usr/local/lib/python3.7/dist-packages (1.1.5)\n",
            "Requirement already satisfied: python-dateutil>=2.7.3 in /usr/local/lib/python3.7/dist-packages (from pandas) (2.8.2)\n",
            "Requirement already satisfied: pytz>=2017.2 in /usr/local/lib/python3.7/dist-packages (from pandas) (2018.9)\n",
            "Requirement already satisfied: numpy>=1.15.4 in /usr/local/lib/python3.7/dist-packages (from pandas) (1.19.5)\n",
            "Requirement already satisfied: six>=1.5 in /usr/local/lib/python3.7/dist-packages (from python-dateutil>=2.7.3->pandas) (1.15.0)\n"
          ]
        }
      ]
    },
    {
      "cell_type": "code",
      "metadata": {
        "id": "CNHum2T75DXR"
      },
      "source": [
        "import yfinance as yf\n",
        "import pandas as pd\n",
        "import plotly.express as px\n",
        "import plotly.graph_objects as go"
      ],
      "execution_count": 97,
      "outputs": []
    },
    {
      "cell_type": "markdown",
      "metadata": {
        "id": "hsTwxDsP5DXR"
      },
      "source": [
        "## Using the yfinance Library to Extract Stock Data\n"
      ]
    },
    {
      "cell_type": "markdown",
      "metadata": {
        "id": "HlfIdnyU5DXS"
      },
      "source": [
        "Using the `Ticker` module we can create an object that will allow us to access functions to extract data. To do this we need to provide the ticker symbol for the stock, here the company is Apple and the ticker symbol is `AAPL`.\n"
      ]
    },
    {
      "cell_type": "code",
      "metadata": {
        "id": "JCyfsdui5DXS"
      },
      "source": [
        "apple = yf.Ticker(\"AAPL\")"
      ],
      "execution_count": 37,
      "outputs": []
    },
    {
      "cell_type": "markdown",
      "metadata": {
        "id": "TOUd_lbc5DXS"
      },
      "source": [
        "Now we can access functions and variables to extract the type of data we need. You can view them and what they represent here [https://aroussi.com/post/python-yahoo-finance](https://aroussi.com/post/python-yahoo-finance?utm_medium=Exinfluencer&utm_source=Exinfluencer&utm_content=000026UJ&utm_term=10006555&utm_id=NA-SkillsNetwork-Channel-SkillsNetworkCoursesIBMDeveloperSkillsNetworkPY0220ENSkillsNetwork23455606-2021-01-01).\n"
      ]
    },
    {
      "cell_type": "markdown",
      "metadata": {
        "id": "Vx3jUw525DXT"
      },
      "source": [
        "### Stock Info\n"
      ]
    },
    {
      "cell_type": "markdown",
      "metadata": {
        "id": "7uH6CW8j5DXT"
      },
      "source": [
        "Using the attribute  <code>info</code> we can extract information about the stock as a Python dictionary.\n"
      ]
    },
    {
      "cell_type": "code",
      "metadata": {
        "colab": {
          "base_uri": "https://localhost:8080/"
        },
        "id": "z4DTpnZ15DXT",
        "outputId": "fb1a2501-9186-4f9e-a36c-09ce1aea06d7"
      },
      "source": [
        "apple_info=apple.info\n",
        "apple_info"
      ],
      "execution_count": 38,
      "outputs": [
        {
          "output_type": "execute_result",
          "data": {
            "text/plain": [
              "{'52WeekChange': 0.3676653,\n",
              " 'SandP52WeekChange': 0.36123884,\n",
              " 'address1': 'One Apple Park Way',\n",
              " 'algorithm': None,\n",
              " 'annualHoldingsTurnover': None,\n",
              " 'annualReportExpenseRatio': None,\n",
              " 'ask': 156.72,\n",
              " 'askSize': 3000,\n",
              " 'averageDailyVolume10Day': 77329540,\n",
              " 'averageVolume': 76831781,\n",
              " 'averageVolume10days': 77329540,\n",
              " 'beta': 1.201965,\n",
              " 'beta3Year': None,\n",
              " 'bid': 156.71,\n",
              " 'bidSize': 1300,\n",
              " 'bookValue': 3.882,\n",
              " 'category': None,\n",
              " 'circulatingSupply': None,\n",
              " 'city': 'Cupertino',\n",
              " 'companyOfficers': [],\n",
              " 'country': 'United States',\n",
              " 'currency': 'USD',\n",
              " 'currentPrice': 156.69,\n",
              " 'currentRatio': 1.062,\n",
              " 'dateShortInterest': 1628812800,\n",
              " 'dayHigh': 157.26,\n",
              " 'dayLow': 154.39,\n",
              " 'debtToEquity': 210.782,\n",
              " 'dividendRate': 0.88,\n",
              " 'dividendYield': 0.0057,\n",
              " 'earningsGrowth': 1,\n",
              " 'earningsQuarterlyGrowth': 0.932,\n",
              " 'ebitda': 110934999040,\n",
              " 'ebitdaMargins': 0.31955,\n",
              " 'enterpriseToEbitda': 23.657,\n",
              " 'enterpriseToRevenue': 7.56,\n",
              " 'enterpriseValue': 2624399605760,\n",
              " 'exDividendDate': 1628208000,\n",
              " 'exchange': 'NMS',\n",
              " 'exchangeTimezoneName': 'America/New_York',\n",
              " 'exchangeTimezoneShortName': 'EDT',\n",
              " 'expireDate': None,\n",
              " 'fiftyDayAverage': 148.05629,\n",
              " 'fiftyTwoWeekHigh': 157.26,\n",
              " 'fiftyTwoWeekLow': 103.1,\n",
              " 'financialCurrency': 'USD',\n",
              " 'fiveYearAverageReturn': None,\n",
              " 'fiveYearAvgDividendYield': 1.27,\n",
              " 'floatShares': 16513305231,\n",
              " 'forwardEps': 5.67,\n",
              " 'forwardPE': 27.63492,\n",
              " 'freeCashflow': 80625876992,\n",
              " 'fromCurrency': None,\n",
              " 'fullTimeEmployees': 147000,\n",
              " 'fundFamily': None,\n",
              " 'fundInceptionDate': None,\n",
              " 'gmtOffSetMilliseconds': '-14400000',\n",
              " 'grossMargins': 0.41005,\n",
              " 'grossProfits': 104956000000,\n",
              " 'heldPercentInsiders': 0.00071000005,\n",
              " 'heldPercentInstitutions': 0.58469003,\n",
              " 'impliedSharesOutstanding': None,\n",
              " 'industry': 'Consumer Electronics',\n",
              " 'isEsgPopulated': False,\n",
              " 'lastCapGain': None,\n",
              " 'lastDividendDate': None,\n",
              " 'lastDividendValue': None,\n",
              " 'lastFiscalYearEnd': 1601078400,\n",
              " 'lastMarket': None,\n",
              " 'lastSplitDate': None,\n",
              " 'lastSplitFactor': None,\n",
              " 'legalType': None,\n",
              " 'logo_url': 'https://logo.clearbit.com/apple.com',\n",
              " 'longBusinessSummary': 'Apple Inc. designs, manufactures, and markets smartphones, personal computers, tablets, wearables, and accessories worldwide. It also sells various related services. The company offers iPhone, a line of smartphones; Mac, a line of personal computers; iPad, a line of multi-purpose tablets; and wearables, home, and accessories comprising AirPods, Apple TV, Apple Watch, Beats products, HomePod, iPod touch, and other Apple-branded and third-party accessories. It also provides AppleCare support services; cloud services store services; and operates various platforms, including the App Store, that allow customers to discover and download applications and digital content, such as books, music, video, games, and podcasts. In addition, the company offers various services, such as Apple Arcade, a game subscription service; Apple Music, which offers users a curated listening experience with on-demand radio stations; Apple News+, a subscription news and magazine service; Apple TV+, which offers exclusive original content; Apple Card, a co-branded credit card; and Apple Pay, a cashless payment service, as well as licenses its intellectual property. The company serves consumers, and small and mid-sized businesses; and the education, enterprise, and government markets. It sells and delivers third-party applications for its products through the App Store. The company also sells its products through its retail and online stores, and direct sales force; and third-party cellular network carriers, wholesalers, retailers, and resellers. Apple Inc. was founded in 1977 and is headquartered in Cupertino, California.',\n",
              " 'longName': 'Apple Inc.',\n",
              " 'market': 'us_market',\n",
              " 'marketCap': 2590116937728,\n",
              " 'maxAge': 1,\n",
              " 'maxSupply': None,\n",
              " 'messageBoardId': 'finmb_24937',\n",
              " 'morningStarOverallRating': None,\n",
              " 'morningStarRiskRating': None,\n",
              " 'mostRecentQuarter': 1624665600,\n",
              " 'navPrice': None,\n",
              " 'netIncomeToCommon': 86801997824,\n",
              " 'nextFiscalYearEnd': 1664150400,\n",
              " 'numberOfAnalystOpinions': 42,\n",
              " 'open': 154.97,\n",
              " 'openInterest': None,\n",
              " 'operatingCashflow': 104414003200,\n",
              " 'operatingMargins': 0.28788,\n",
              " 'payoutRatio': 0.16309999,\n",
              " 'pegRatio': 1.4,\n",
              " 'phone': '408-996-1010',\n",
              " 'previousClose': 154.3,\n",
              " 'priceHint': 2,\n",
              " 'priceToBook': 40.363216,\n",
              " 'priceToSalesTrailing12Months': 7.460981,\n",
              " 'profitMargins': 0.25004,\n",
              " 'quickRatio': 0.887,\n",
              " 'quoteType': 'EQUITY',\n",
              " 'recommendationKey': 'buy',\n",
              " 'recommendationMean': 1.9,\n",
              " 'regularMarketDayHigh': 157.26,\n",
              " 'regularMarketDayLow': 154.39,\n",
              " 'regularMarketOpen': 154.97,\n",
              " 'regularMarketPreviousClose': 154.3,\n",
              " 'regularMarketPrice': 156.69,\n",
              " 'regularMarketVolume': 80079257,\n",
              " 'returnOnAssets': 0.19302,\n",
              " 'returnOnEquity': 1.27125,\n",
              " 'revenueGrowth': 0.364,\n",
              " 'revenuePerShare': 20.61,\n",
              " 'revenueQuarterlyGrowth': None,\n",
              " 'sector': 'Technology',\n",
              " 'sharesOutstanding': 16530199552,\n",
              " 'sharesPercentSharesOut': 0.0056,\n",
              " 'sharesShort': 93105968,\n",
              " 'sharesShortPreviousMonthDate': 1626307200,\n",
              " 'sharesShortPriorMonth': 96355309,\n",
              " 'shortName': 'Apple Inc.',\n",
              " 'shortPercentOfFloat': 0.0056,\n",
              " 'shortRatio': 1.19,\n",
              " 'startDate': None,\n",
              " 'state': 'CA',\n",
              " 'strikePrice': None,\n",
              " 'symbol': 'AAPL',\n",
              " 'targetHighPrice': 190,\n",
              " 'targetLowPrice': 132,\n",
              " 'targetMeanPrice': 166.23,\n",
              " 'targetMedianPrice': 168,\n",
              " 'threeYearAverageReturn': None,\n",
              " 'toCurrency': None,\n",
              " 'totalAssets': None,\n",
              " 'totalCash': 61696000000,\n",
              " 'totalCashPerShare': 3.732,\n",
              " 'totalDebt': 135491002368,\n",
              " 'totalRevenue': 347155005440,\n",
              " 'tradeable': False,\n",
              " 'trailingAnnualDividendRate': 0.835,\n",
              " 'trailingAnnualDividendYield': 0.0054115355,\n",
              " 'trailingEps': 5.108,\n",
              " 'trailingPE': 30.675413,\n",
              " 'twoHundredDayAverage': 133.93848,\n",
              " 'volume': 80079257,\n",
              " 'volume24Hr': None,\n",
              " 'volumeAllCurrencies': None,\n",
              " 'website': 'http://www.apple.com',\n",
              " 'yield': None,\n",
              " 'ytdReturn': None,\n",
              " 'zip': '95014'}"
            ]
          },
          "metadata": {},
          "execution_count": 38
        }
      ]
    },
    {
      "cell_type": "markdown",
      "metadata": {
        "id": "0FFFcXuG5DXT"
      },
      "source": [
        "We can get the <code>'country'</code> using the key country\n"
      ]
    },
    {
      "cell_type": "code",
      "metadata": {
        "colab": {
          "base_uri": "https://localhost:8080/",
          "height": 35
        },
        "id": "RmcSl2sV5DXT",
        "outputId": "0bb37959-217e-4479-d41d-8d43f120e108"
      },
      "source": [
        "apple_info['country']"
      ],
      "execution_count": 39,
      "outputs": [
        {
          "output_type": "execute_result",
          "data": {
            "application/vnd.google.colaboratory.intrinsic+json": {
              "type": "string"
            },
            "text/plain": [
              "'United States'"
            ]
          },
          "metadata": {},
          "execution_count": 39
        }
      ]
    },
    {
      "cell_type": "markdown",
      "metadata": {
        "id": "11l-E8KW5DXU"
      },
      "source": [
        "### Extracting Share Price\n"
      ]
    },
    {
      "cell_type": "markdown",
      "metadata": {
        "id": "hemPa-d25DXU"
      },
      "source": [
        "A share is the single smallest part of a company's stock  that you can buy, the prices of these shares fluctuate over time. Using the <code>history()</code> method we can get the share price of the stock over a certain period of time. Using the `period` parameter we can set how far back from the present to get data. The options for `period` are 1 day (1d), 5d, 1 month (1mo) , 3mo, 6mo, 1 year (1y), 2y, 5y, 10y, ytd, and max.\n"
      ]
    },
    {
      "cell_type": "code",
      "metadata": {
        "id": "5aL5qZfi5DXU"
      },
      "source": [
        "apple_share_price_data = apple.history(period=\"max\")"
      ],
      "execution_count": 40,
      "outputs": []
    },
    {
      "cell_type": "markdown",
      "metadata": {
        "id": "vvQ_yc5_5DXU"
      },
      "source": [
        "The format that the data is returned in is a Pandas DataFrame. With the `Date` as the index the share `Open`, `High`, `Low`, `Close`, `Volume`, and `Stock Splits` are given for each day.\n"
      ]
    },
    {
      "cell_type": "code",
      "metadata": {
        "colab": {
          "base_uri": "https://localhost:8080/",
          "height": 235
        },
        "id": "-sGcgQVG5DXU",
        "outputId": "69268236-57c0-4308-f859-914ae5c981e3"
      },
      "source": [
        "apple_share_price_data.head()"
      ],
      "execution_count": 41,
      "outputs": [
        {
          "output_type": "execute_result",
          "data": {
            "text/html": [
              "<div>\n",
              "<style scoped>\n",
              "    .dataframe tbody tr th:only-of-type {\n",
              "        vertical-align: middle;\n",
              "    }\n",
              "\n",
              "    .dataframe tbody tr th {\n",
              "        vertical-align: top;\n",
              "    }\n",
              "\n",
              "    .dataframe thead th {\n",
              "        text-align: right;\n",
              "    }\n",
              "</style>\n",
              "<table border=\"1\" class=\"dataframe\">\n",
              "  <thead>\n",
              "    <tr style=\"text-align: right;\">\n",
              "      <th></th>\n",
              "      <th>Open</th>\n",
              "      <th>High</th>\n",
              "      <th>Low</th>\n",
              "      <th>Close</th>\n",
              "      <th>Volume</th>\n",
              "      <th>Dividends</th>\n",
              "      <th>Stock Splits</th>\n",
              "    </tr>\n",
              "    <tr>\n",
              "      <th>Date</th>\n",
              "      <th></th>\n",
              "      <th></th>\n",
              "      <th></th>\n",
              "      <th></th>\n",
              "      <th></th>\n",
              "      <th></th>\n",
              "      <th></th>\n",
              "    </tr>\n",
              "  </thead>\n",
              "  <tbody>\n",
              "    <tr>\n",
              "      <th>1980-12-12</th>\n",
              "      <td>0.100600</td>\n",
              "      <td>0.101037</td>\n",
              "      <td>0.100600</td>\n",
              "      <td>0.100600</td>\n",
              "      <td>469033600</td>\n",
              "      <td>0.0</td>\n",
              "      <td>0.0</td>\n",
              "    </tr>\n",
              "    <tr>\n",
              "      <th>1980-12-15</th>\n",
              "      <td>0.095789</td>\n",
              "      <td>0.095789</td>\n",
              "      <td>0.095352</td>\n",
              "      <td>0.095352</td>\n",
              "      <td>175884800</td>\n",
              "      <td>0.0</td>\n",
              "      <td>0.0</td>\n",
              "    </tr>\n",
              "    <tr>\n",
              "      <th>1980-12-16</th>\n",
              "      <td>0.088790</td>\n",
              "      <td>0.088790</td>\n",
              "      <td>0.088353</td>\n",
              "      <td>0.088353</td>\n",
              "      <td>105728000</td>\n",
              "      <td>0.0</td>\n",
              "      <td>0.0</td>\n",
              "    </tr>\n",
              "    <tr>\n",
              "      <th>1980-12-17</th>\n",
              "      <td>0.090540</td>\n",
              "      <td>0.090977</td>\n",
              "      <td>0.090540</td>\n",
              "      <td>0.090540</td>\n",
              "      <td>86441600</td>\n",
              "      <td>0.0</td>\n",
              "      <td>0.0</td>\n",
              "    </tr>\n",
              "    <tr>\n",
              "      <th>1980-12-18</th>\n",
              "      <td>0.093165</td>\n",
              "      <td>0.093602</td>\n",
              "      <td>0.093165</td>\n",
              "      <td>0.093165</td>\n",
              "      <td>73449600</td>\n",
              "      <td>0.0</td>\n",
              "      <td>0.0</td>\n",
              "    </tr>\n",
              "  </tbody>\n",
              "</table>\n",
              "</div>"
            ],
            "text/plain": [
              "                Open      High       Low  ...     Volume  Dividends  Stock Splits\n",
              "Date                                      ...                                    \n",
              "1980-12-12  0.100600  0.101037  0.100600  ...  469033600        0.0           0.0\n",
              "1980-12-15  0.095789  0.095789  0.095352  ...  175884800        0.0           0.0\n",
              "1980-12-16  0.088790  0.088790  0.088353  ...  105728000        0.0           0.0\n",
              "1980-12-17  0.090540  0.090977  0.090540  ...   86441600        0.0           0.0\n",
              "1980-12-18  0.093165  0.093602  0.093165  ...   73449600        0.0           0.0\n",
              "\n",
              "[5 rows x 7 columns]"
            ]
          },
          "metadata": {},
          "execution_count": 41
        }
      ]
    },
    {
      "cell_type": "markdown",
      "metadata": {
        "id": "rglLC8ng5DXU"
      },
      "source": [
        "We can reset the index of the DataFrame with the `reset_index` function. We also set the `inplace` paramter to `True` so the change takes place to the DataFrame itself.\n"
      ]
    },
    {
      "cell_type": "code",
      "metadata": {
        "id": "2cbVXuQU5DXU"
      },
      "source": [
        "apple_share_price_data.reset_index(inplace=True)"
      ],
      "execution_count": 42,
      "outputs": []
    },
    {
      "cell_type": "markdown",
      "metadata": {
        "id": "pqU_Z2BH5DXV"
      },
      "source": [
        "We can plot the `Open` price against the `Date`:\n"
      ]
    },
    {
      "cell_type": "code",
      "metadata": {
        "colab": {
          "base_uri": "https://localhost:8080/",
          "height": 286
        },
        "id": "YsxfiGuy5DXV",
        "outputId": "ec877986-ea65-4f21-d9fa-f7bdecc5aeed"
      },
      "source": [
        "apple_share_price_data.plot(x=\"Date\", y=\"Open\")"
      ],
      "execution_count": 43,
      "outputs": [
        {
          "output_type": "execute_result",
          "data": {
            "text/plain": [
              "<matplotlib.axes._subplots.AxesSubplot at 0x7f9806caeed0>"
            ]
          },
          "metadata": {},
          "execution_count": 43
        },
        {
          "output_type": "display_data",
          "data": {
            "image/png": "[encoded data removed]",
            "text/plain": [
              "<Figure size 432x288 with 1 Axes>"
            ]
          },
          "metadata": {
            "needs_background": "light"
          }
        }
      ]
    },
    {
      "cell_type": "markdown",
      "metadata": {
        "id": "OQcMPmb-5DXV"
      },
      "source": [
        "### Extracting Dividends\n"
      ]
    },
    {
      "cell_type": "markdown",
      "metadata": {
        "id": "dbl1nm-E5DXV"
      },
      "source": [
        "Dividends are the distribution of a companys profits to shareholders. In this case they are defined as an amount of money returned per share an investor owns. Using the variable `dividends` we can get a dataframe of the data. The period of the data is given by the period defined in the 'history\\` function.\n"
      ]
    },
    {
      "cell_type": "code",
      "metadata": {
        "colab": {
          "base_uri": "https://localhost:8080/"
        },
        "id": "DoG5LplE5DXV",
        "outputId": "2eec3f55-d17b-4b79-c0ea-97bfb58cbdab"
      },
      "source": [
        "apple.dividends"
      ],
      "execution_count": 44,
      "outputs": [
        {
          "output_type": "execute_result",
          "data": {
            "text/plain": [
              "Date\n",
              "1987-05-11    0.000536\n",
              "1987-08-10    0.000536\n",
              "1987-11-17    0.000714\n",
              "1988-02-12    0.000714\n",
              "1988-05-16    0.000714\n",
              "                ...   \n",
              "2020-08-07    0.205000\n",
              "2020-11-06    0.205000\n",
              "2021-02-05    0.205000\n",
              "2021-05-07    0.220000\n",
              "2021-08-06    0.220000\n",
              "Name: Dividends, Length: 72, dtype: float64"
            ]
          },
          "metadata": {},
          "execution_count": 44
        }
      ]
    },
    {
      "cell_type": "code",
      "metadata": {
        "id": "iJ-0Hs8k9caR"
      },
      "source": [
        ""
      ],
      "execution_count": null,
      "outputs": []
    },
    {
      "cell_type": "markdown",
      "metadata": {
        "id": "78IdKgtE5DXV"
      },
      "source": [
        "We can plot the dividends overtime:\n"
      ]
    },
    {
      "cell_type": "code",
      "metadata": {
        "colab": {
          "base_uri": "https://localhost:8080/",
          "height": 285
        },
        "id": "tET-OClS5DXV",
        "outputId": "61b68628-a1e7-4b23-e681-74b93a4216da"
      },
      "source": [
        "apple.dividends.plot()"
      ],
      "execution_count": 45,
      "outputs": [
        {
          "output_type": "execute_result",
          "data": {
            "text/plain": [
              "<matplotlib.axes._subplots.AxesSubplot at 0x7f98069f0450>"
            ]
          },
          "metadata": {},
          "execution_count": 45
        },
        {
          "output_type": "display_data",
          "data": {
            "image/png": "[encoded data removed]",
            "text/plain": [
              "<Figure size 432x288 with 1 Axes>"
            ]
          },
          "metadata": {
            "needs_background": "light"
          }
        }
      ]
    },
    {
      "cell_type": "markdown",
      "metadata": {
        "id": "FCbLXJ0X5DXW"
      },
      "source": [
        "## Exercise\n"
      ]
    },
    {
      "cell_type": "markdown",
      "metadata": {
        "id": "y_84j7S35DXW"
      },
      "source": [
        "Now using the `Ticker` module create an object for AMD (Advanced Micro Devices) with the ticker symbol is `AMD` called; name the object <code>amd</code>.\n"
      ]
    },
    {
      "cell_type": "code",
      "metadata": {
        "colab": {
          "base_uri": "https://localhost:8080/"
        },
        "id": "b8wQoyP75DXW",
        "outputId": "6186c096-de5b-4a65-a2f1-f164ac28586c"
      },
      "source": [
        "amd = yf.Ticker(\"AMD\")\n",
        "apple_info=apple.info\n",
        "apple_info"
      ],
      "execution_count": 57,
      "outputs": [
        {
          "output_type": "execute_result",
          "data": {
            "text/plain": [
              "{'52WeekChange': 0.3676653,\n",
              " 'SandP52WeekChange': 0.36123884,\n",
              " 'address1': 'One Apple Park Way',\n",
              " 'algorithm': None,\n",
              " 'annualHoldingsTurnover': None,\n",
              " 'annualReportExpenseRatio': None,\n",
              " 'ask': 156.72,\n",
              " 'askSize': 3000,\n",
              " 'averageDailyVolume10Day': 77329540,\n",
              " 'averageVolume': 76831781,\n",
              " 'averageVolume10days': 77329540,\n",
              " 'beta': 1.201965,\n",
              " 'beta3Year': None,\n",
              " 'bid': 156.71,\n",
              " 'bidSize': 1300,\n",
              " 'bookValue': 3.882,\n",
              " 'category': None,\n",
              " 'circulatingSupply': None,\n",
              " 'city': 'Cupertino',\n",
              " 'companyOfficers': [],\n",
              " 'country': 'United States',\n",
              " 'currency': 'USD',\n",
              " 'currentPrice': 156.69,\n",
              " 'currentRatio': 1.062,\n",
              " 'dateShortInterest': 1628812800,\n",
              " 'dayHigh': 157.26,\n",
              " 'dayLow': 154.39,\n",
              " 'debtToEquity': 210.782,\n",
              " 'dividendRate': 0.88,\n",
              " 'dividendYield': 0.0057,\n",
              " 'earningsGrowth': 1,\n",
              " 'earningsQuarterlyGrowth': 0.932,\n",
              " 'ebitda': 110934999040,\n",
              " 'ebitdaMargins': 0.31955,\n",
              " 'enterpriseToEbitda': 23.657,\n",
              " 'enterpriseToRevenue': 7.56,\n",
              " 'enterpriseValue': 2624399605760,\n",
              " 'exDividendDate': 1628208000,\n",
              " 'exchange': 'NMS',\n",
              " 'exchangeTimezoneName': 'America/New_York',\n",
              " 'exchangeTimezoneShortName': 'EDT',\n",
              " 'expireDate': None,\n",
              " 'fiftyDayAverage': 148.05629,\n",
              " 'fiftyTwoWeekHigh': 157.26,\n",
              " 'fiftyTwoWeekLow': 103.1,\n",
              " 'financialCurrency': 'USD',\n",
              " 'fiveYearAverageReturn': None,\n",
              " 'fiveYearAvgDividendYield': 1.27,\n",
              " 'floatShares': 16513305231,\n",
              " 'forwardEps': 5.67,\n",
              " 'forwardPE': 27.63492,\n",
              " 'freeCashflow': 80625876992,\n",
              " 'fromCurrency': None,\n",
              " 'fullTimeEmployees': 147000,\n",
              " 'fundFamily': None,\n",
              " 'fundInceptionDate': None,\n",
              " 'gmtOffSetMilliseconds': '-14400000',\n",
              " 'grossMargins': 0.41005,\n",
              " 'grossProfits': 104956000000,\n",
              " 'heldPercentInsiders': 0.00071000005,\n",
              " 'heldPercentInstitutions': 0.58469003,\n",
              " 'impliedSharesOutstanding': None,\n",
              " 'industry': 'Consumer Electronics',\n",
              " 'isEsgPopulated': False,\n",
              " 'lastCapGain': None,\n",
              " 'lastDividendDate': None,\n",
              " 'lastDividendValue': None,\n",
              " 'lastFiscalYearEnd': 1601078400,\n",
              " 'lastMarket': None,\n",
              " 'lastSplitDate': None,\n",
              " 'lastSplitFactor': None,\n",
              " 'legalType': None,\n",
              " 'logo_url': 'https://logo.clearbit.com/apple.com',\n",
              " 'longBusinessSummary': 'Apple Inc. designs, manufactures, and markets smartphones, personal computers, tablets, wearables, and accessories worldwide. It also sells various related services. The company offers iPhone, a line of smartphones; Mac, a line of personal computers; iPad, a line of multi-purpose tablets; and wearables, home, and accessories comprising AirPods, Apple TV, Apple Watch, Beats products, HomePod, iPod touch, and other Apple-branded and third-party accessories. It also provides AppleCare support services; cloud services store services; and operates various platforms, including the App Store, that allow customers to discover and download applications and digital content, such as books, music, video, games, and podcasts. In addition, the company offers various services, such as Apple Arcade, a game subscription service; Apple Music, which offers users a curated listening experience with on-demand radio stations; Apple News+, a subscription news and magazine service; Apple TV+, which offers exclusive original content; Apple Card, a co-branded credit card; and Apple Pay, a cashless payment service, as well as licenses its intellectual property. The company serves consumers, and small and mid-sized businesses; and the education, enterprise, and government markets. It sells and delivers third-party applications for its products through the App Store. The company also sells its products through its retail and online stores, and direct sales force; and third-party cellular network carriers, wholesalers, retailers, and resellers. Apple Inc. was founded in 1977 and is headquartered in Cupertino, California.',\n",
              " 'longName': 'Apple Inc.',\n",
              " 'market': 'us_market',\n",
              " 'marketCap': 2590116937728,\n",
              " 'maxAge': 1,\n",
              " 'maxSupply': None,\n",
              " 'messageBoardId': 'finmb_24937',\n",
              " 'morningStarOverallRating': None,\n",
              " 'morningStarRiskRating': None,\n",
              " 'mostRecentQuarter': 1624665600,\n",
              " 'navPrice': None,\n",
              " 'netIncomeToCommon': 86801997824,\n",
              " 'nextFiscalYearEnd': 1664150400,\n",
              " 'numberOfAnalystOpinions': 42,\n",
              " 'open': 154.97,\n",
              " 'openInterest': None,\n",
              " 'operatingCashflow': 104414003200,\n",
              " 'operatingMargins': 0.28788,\n",
              " 'payoutRatio': 0.16309999,\n",
              " 'pegRatio': 1.4,\n",
              " 'phone': '408-996-1010',\n",
              " 'previousClose': 154.3,\n",
              " 'priceHint': 2,\n",
              " 'priceToBook': 40.363216,\n",
              " 'priceToSalesTrailing12Months': 7.460981,\n",
              " 'profitMargins': 0.25004,\n",
              " 'quickRatio': 0.887,\n",
              " 'quoteType': 'EQUITY',\n",
              " 'recommendationKey': 'buy',\n",
              " 'recommendationMean': 1.9,\n",
              " 'regularMarketDayHigh': 157.26,\n",
              " 'regularMarketDayLow': 154.39,\n",
              " 'regularMarketOpen': 154.97,\n",
              " 'regularMarketPreviousClose': 154.3,\n",
              " 'regularMarketPrice': 156.69,\n",
              " 'regularMarketVolume': 80079257,\n",
              " 'returnOnAssets': 0.19302,\n",
              " 'returnOnEquity': 1.27125,\n",
              " 'revenueGrowth': 0.364,\n",
              " 'revenuePerShare': 20.61,\n",
              " 'revenueQuarterlyGrowth': None,\n",
              " 'sector': 'Technology',\n",
              " 'sharesOutstanding': 16530199552,\n",
              " 'sharesPercentSharesOut': 0.0056,\n",
              " 'sharesShort': 93105968,\n",
              " 'sharesShortPreviousMonthDate': 1626307200,\n",
              " 'sharesShortPriorMonth': 96355309,\n",
              " 'shortName': 'Apple Inc.',\n",
              " 'shortPercentOfFloat': 0.0056,\n",
              " 'shortRatio': 1.19,\n",
              " 'startDate': None,\n",
              " 'state': 'CA',\n",
              " 'strikePrice': None,\n",
              " 'symbol': 'AAPL',\n",
              " 'targetHighPrice': 190,\n",
              " 'targetLowPrice': 132,\n",
              " 'targetMeanPrice': 166.23,\n",
              " 'targetMedianPrice': 168,\n",
              " 'threeYearAverageReturn': None,\n",
              " 'toCurrency': None,\n",
              " 'totalAssets': None,\n",
              " 'totalCash': 61696000000,\n",
              " 'totalCashPerShare': 3.732,\n",
              " 'totalDebt': 135491002368,\n",
              " 'totalRevenue': 347155005440,\n",
              " 'tradeable': False,\n",
              " 'trailingAnnualDividendRate': 0.835,\n",
              " 'trailingAnnualDividendYield': 0.0054115355,\n",
              " 'trailingEps': 5.108,\n",
              " 'trailingPE': 30.675413,\n",
              " 'twoHundredDayAverage': 133.93848,\n",
              " 'volume': 80079257,\n",
              " 'volume24Hr': None,\n",
              " 'volumeAllCurrencies': None,\n",
              " 'website': 'http://www.apple.com',\n",
              " 'yield': None,\n",
              " 'ytdReturn': None,\n",
              " 'zip': '95014'}"
            ]
          },
          "metadata": {},
          "execution_count": 57
        }
      ]
    },
    {
      "cell_type": "markdown",
      "metadata": {
        "id": "c9Rky2gN5DXW"
      },
      "source": [
        "<b>Question 1</b> Use the key  <code>'country'</code> to find the country the stock belongs to, remember it as it will be a quiz question.\n"
      ]
    },
    {
      "cell_type": "code",
      "metadata": {
        "colab": {
          "base_uri": "https://localhost:8080/",
          "height": 35
        },
        "id": "D4fzd_ho5DXW",
        "outputId": "a8f4f790-b92d-4032-d8f3-954a09aebf2f"
      },
      "source": [
        "amd.info['country']"
      ],
      "execution_count": 58,
      "outputs": [
        {
          "output_type": "execute_result",
          "data": {
            "application/vnd.google.colaboratory.intrinsic+json": {
              "type": "string"
            },
            "text/plain": [
              "'United States'"
            ]
          },
          "metadata": {},
          "execution_count": 58
        }
      ]
    },
    {
      "cell_type": "markdown",
      "metadata": {
        "id": "clYKz0r35DXW"
      },
      "source": [
        "<b>Question 2</b> Use the key  <code>'sector'</code> to find the sector the stock belongs to, remember it as it will be a quiz question.\n"
      ]
    },
    {
      "cell_type": "code",
      "metadata": {
        "colab": {
          "base_uri": "https://localhost:8080/",
          "height": 35
        },
        "id": "K2-PJP8y5DXW",
        "outputId": "b3a83298-86fc-4eb4-a138-503e1b30864d"
      },
      "source": [
        "amd.info['sector']"
      ],
      "execution_count": 59,
      "outputs": [
        {
          "output_type": "execute_result",
          "data": {
            "application/vnd.google.colaboratory.intrinsic+json": {
              "type": "string"
            },
            "text/plain": [
              "'Technology'"
            ]
          },
          "metadata": {},
          "execution_count": 59
        }
      ]
    },
    {
      "cell_type": "markdown",
      "metadata": {
        "id": "QiQo-6jx5DXW"
      },
      "source": [
        "<b>Question 3</b> Obtain stock data for AMD using the `history` function, set the `period` to max. Find the `Volume` traded on the first day (first row).\n"
      ]
    },
    {
      "cell_type": "code",
      "metadata": {
        "colab": {
          "base_uri": "https://localhost:8080/",
          "height": 235
        },
        "id": "xAYl7MHu5DXW",
        "outputId": "7d6b1a34-b008-4fd3-de58-0ccbbd8c88dd"
      },
      "source": [
        "amd_share_price_data = amd.history(period=\"ytd\")\n",
        "amd_share_price_data.head()\n"
      ],
      "execution_count": 162,
      "outputs": [
        {
          "output_type": "execute_result",
          "data": {
            "text/html": [
              "<div>\n",
              "<style scoped>\n",
              "    .dataframe tbody tr th:only-of-type {\n",
              "        vertical-align: middle;\n",
              "    }\n",
              "\n",
              "    .dataframe tbody tr th {\n",
              "        vertical-align: top;\n",
              "    }\n",
              "\n",
              "    .dataframe thead th {\n",
              "        text-align: right;\n",
              "    }\n",
              "</style>\n",
              "<table border=\"1\" class=\"dataframe\">\n",
              "  <thead>\n",
              "    <tr style=\"text-align: right;\">\n",
              "      <th></th>\n",
              "      <th>Open</th>\n",
              "      <th>High</th>\n",
              "      <th>Low</th>\n",
              "      <th>Close</th>\n",
              "      <th>Volume</th>\n",
              "      <th>Dividends</th>\n",
              "      <th>Stock Splits</th>\n",
              "    </tr>\n",
              "    <tr>\n",
              "      <th>Date</th>\n",
              "      <th></th>\n",
              "      <th></th>\n",
              "      <th></th>\n",
              "      <th></th>\n",
              "      <th></th>\n",
              "      <th></th>\n",
              "      <th></th>\n",
              "    </tr>\n",
              "  </thead>\n",
              "  <tbody>\n",
              "    <tr>\n",
              "      <th>2021-01-04</th>\n",
              "      <td>92.110001</td>\n",
              "      <td>96.059998</td>\n",
              "      <td>90.919998</td>\n",
              "      <td>92.300003</td>\n",
              "      <td>51802600</td>\n",
              "      <td>0</td>\n",
              "      <td>0</td>\n",
              "    </tr>\n",
              "    <tr>\n",
              "      <th>2021-01-05</th>\n",
              "      <td>92.099998</td>\n",
              "      <td>93.209999</td>\n",
              "      <td>91.410004</td>\n",
              "      <td>92.769997</td>\n",
              "      <td>34208000</td>\n",
              "      <td>0</td>\n",
              "      <td>0</td>\n",
              "    </tr>\n",
              "    <tr>\n",
              "      <th>2021-01-06</th>\n",
              "      <td>91.620003</td>\n",
              "      <td>92.279999</td>\n",
              "      <td>89.459999</td>\n",
              "      <td>90.330002</td>\n",
              "      <td>51911700</td>\n",
              "      <td>0</td>\n",
              "      <td>0</td>\n",
              "    </tr>\n",
              "    <tr>\n",
              "      <th>2021-01-07</th>\n",
              "      <td>91.330002</td>\n",
              "      <td>95.510002</td>\n",
              "      <td>91.199997</td>\n",
              "      <td>95.160004</td>\n",
              "      <td>42897200</td>\n",
              "      <td>0</td>\n",
              "      <td>0</td>\n",
              "    </tr>\n",
              "    <tr>\n",
              "      <th>2021-01-08</th>\n",
              "      <td>95.980003</td>\n",
              "      <td>96.400002</td>\n",
              "      <td>93.269997</td>\n",
              "      <td>94.580002</td>\n",
              "      <td>39816400</td>\n",
              "      <td>0</td>\n",
              "      <td>0</td>\n",
              "    </tr>\n",
              "  </tbody>\n",
              "</table>\n",
              "</div>"
            ],
            "text/plain": [
              "                 Open       High        Low  ...    Volume  Dividends  Stock Splits\n",
              "Date                                         ...                                   \n",
              "2021-01-04  92.110001  96.059998  90.919998  ...  51802600          0             0\n",
              "2021-01-05  92.099998  93.209999  91.410004  ...  34208000          0             0\n",
              "2021-01-06  91.620003  92.279999  89.459999  ...  51911700          0             0\n",
              "2021-01-07  91.330002  95.510002  91.199997  ...  42897200          0             0\n",
              "2021-01-08  95.980003  96.400002  93.269997  ...  39816400          0             0\n",
              "\n",
              "[5 rows x 7 columns]"
            ]
          },
          "metadata": {},
          "execution_count": 162
        }
      ]
    },
    {
      "cell_type": "code",
      "metadata": {
        "id": "bUQUDr71Y2hH"
      },
      "source": [
        ""
      ],
      "execution_count": null,
      "outputs": []
    },
    {
      "cell_type": "code",
      "metadata": {
        "colab": {
          "base_uri": "https://localhost:8080/",
          "height": 294
        },
        "id": "m_RVirUH7jSG",
        "outputId": "49f4cb58-944a-4f5a-ea80-8864af3625ae"
      },
      "source": [
        "amd_share_price_data.reset_index(inplace=True)\n",
        "amd_share_price_data.plot(x=\"Date\", y=\"Open\")\n"
      ],
      "execution_count": 160,
      "outputs": [
        {
          "output_type": "execute_result",
          "data": {
            "text/plain": [
              "<matplotlib.axes._subplots.AxesSubplot at 0x7f98031786d0>"
            ]
          },
          "metadata": {},
          "execution_count": 160
        },
        {
          "output_type": "display_data",
          "data": {
            "image/png": "[encoded data removed]",
            "text/plain": [
              "<Figure size 432x288 with 1 Axes>"
            ]
          },
          "metadata": {
            "needs_background": "light"
          }
        }
      ]
    },
    {
      "cell_type": "code",
      "metadata": {
        "colab": {
          "base_uri": "https://localhost:8080/",
          "height": 235
        },
        "id": "fOW5r-17YUev",
        "outputId": "32238c87-6067-42a4-cc3d-f1d5fba9d0f8"
      },
      "source": [
        "amd_share_price_data = amd.history(period=\"max\")\n",
        "amd_share_price_data.head()"
      ],
      "execution_count": 163,
      "outputs": [
        {
          "output_type": "execute_result",
          "data": {
            "text/html": [
              "<div>\n",
              "<style scoped>\n",
              "    .dataframe tbody tr th:only-of-type {\n",
              "        vertical-align: middle;\n",
              "    }\n",
              "\n",
              "    .dataframe tbody tr th {\n",
              "        vertical-align: top;\n",
              "    }\n",
              "\n",
              "    .dataframe thead th {\n",
              "        text-align: right;\n",
              "    }\n",
              "</style>\n",
              "<table border=\"1\" class=\"dataframe\">\n",
              "  <thead>\n",
              "    <tr style=\"text-align: right;\">\n",
              "      <th></th>\n",
              "      <th>Open</th>\n",
              "      <th>High</th>\n",
              "      <th>Low</th>\n",
              "      <th>Close</th>\n",
              "      <th>Volume</th>\n",
              "      <th>Dividends</th>\n",
              "      <th>Stock Splits</th>\n",
              "    </tr>\n",
              "    <tr>\n",
              "      <th>Date</th>\n",
              "      <th></th>\n",
              "      <th></th>\n",
              "      <th></th>\n",
              "      <th></th>\n",
              "      <th></th>\n",
              "      <th></th>\n",
              "      <th></th>\n",
              "    </tr>\n",
              "  </thead>\n",
              "  <tbody>\n",
              "    <tr>\n",
              "      <th>1980-03-17</th>\n",
              "      <td>0.0</td>\n",
              "      <td>3.302083</td>\n",
              "      <td>3.125000</td>\n",
              "      <td>3.145833</td>\n",
              "      <td>219600</td>\n",
              "      <td>0</td>\n",
              "      <td>0.0</td>\n",
              "    </tr>\n",
              "    <tr>\n",
              "      <th>1980-03-18</th>\n",
              "      <td>0.0</td>\n",
              "      <td>3.125000</td>\n",
              "      <td>2.937500</td>\n",
              "      <td>3.031250</td>\n",
              "      <td>727200</td>\n",
              "      <td>0</td>\n",
              "      <td>0.0</td>\n",
              "    </tr>\n",
              "    <tr>\n",
              "      <th>1980-03-19</th>\n",
              "      <td>0.0</td>\n",
              "      <td>3.083333</td>\n",
              "      <td>3.020833</td>\n",
              "      <td>3.041667</td>\n",
              "      <td>295200</td>\n",
              "      <td>0</td>\n",
              "      <td>0.0</td>\n",
              "    </tr>\n",
              "    <tr>\n",
              "      <th>1980-03-20</th>\n",
              "      <td>0.0</td>\n",
              "      <td>3.062500</td>\n",
              "      <td>3.010417</td>\n",
              "      <td>3.010417</td>\n",
              "      <td>159600</td>\n",
              "      <td>0</td>\n",
              "      <td>0.0</td>\n",
              "    </tr>\n",
              "    <tr>\n",
              "      <th>1980-03-21</th>\n",
              "      <td>0.0</td>\n",
              "      <td>3.020833</td>\n",
              "      <td>2.906250</td>\n",
              "      <td>2.916667</td>\n",
              "      <td>130800</td>\n",
              "      <td>0</td>\n",
              "      <td>0.0</td>\n",
              "    </tr>\n",
              "  </tbody>\n",
              "</table>\n",
              "</div>"
            ],
            "text/plain": [
              "            Open      High       Low     Close  Volume  Dividends  Stock Splits\n",
              "Date                                                                           \n",
              "1980-03-17   0.0  3.302083  3.125000  3.145833  219600          0           0.0\n",
              "1980-03-18   0.0  3.125000  2.937500  3.031250  727200          0           0.0\n",
              "1980-03-19   0.0  3.083333  3.020833  3.041667  295200          0           0.0\n",
              "1980-03-20   0.0  3.062500  3.010417  3.010417  159600          0           0.0\n",
              "1980-03-21   0.0  3.020833  2.906250  2.916667  130800          0           0.0"
            ]
          },
          "metadata": {},
          "execution_count": 163
        }
      ]
    },
    {
      "cell_type": "code",
      "metadata": {
        "colab": {
          "base_uri": "https://localhost:8080/",
          "height": 285
        },
        "id": "LfgojtG6YUns",
        "outputId": "7bd48f3c-000d-44cd-b23c-0211b3006d00"
      },
      "source": [
        "amd_share_price_data.reset_index(inplace=True)\n",
        "amd_share_price_data.plot(x=\"Date\", y=\"Open\")"
      ],
      "execution_count": 164,
      "outputs": [
        {
          "output_type": "execute_result",
          "data": {
            "text/plain": [
              "<matplotlib.axes._subplots.AxesSubplot at 0x7f98030d6090>"
            ]
          },
          "metadata": {},
          "execution_count": 164
        },
        {
          "output_type": "display_data",
          "data": {
            "image/png": "[encoded data removed]",
            "text/plain": [
              "<Figure size 432x288 with 1 Axes>"
            ]
          },
          "metadata": {
            "needs_background": "light"
          }
        }
      ]
    },
    {
      "cell_type": "code",
      "metadata": {
        "colab": {
          "base_uri": "https://localhost:8080/",
          "height": 235
        },
        "id": "JONc7QuGY5hN",
        "outputId": "6ff5ee60-7a6f-42fb-991c-1c1bbf8dd29a"
      },
      "source": [
        "amd_share_price_data = amd.history(period=\"2y\")\n",
        "amd_share_price_data.head()"
      ],
      "execution_count": 173,
      "outputs": [
        {
          "output_type": "execute_result",
          "data": {
            "text/html": [
              "<div>\n",
              "<style scoped>\n",
              "    .dataframe tbody tr th:only-of-type {\n",
              "        vertical-align: middle;\n",
              "    }\n",
              "\n",
              "    .dataframe tbody tr th {\n",
              "        vertical-align: top;\n",
              "    }\n",
              "\n",
              "    .dataframe thead th {\n",
              "        text-align: right;\n",
              "    }\n",
              "</style>\n",
              "<table border=\"1\" class=\"dataframe\">\n",
              "  <thead>\n",
              "    <tr style=\"text-align: right;\">\n",
              "      <th></th>\n",
              "      <th>Open</th>\n",
              "      <th>High</th>\n",
              "      <th>Low</th>\n",
              "      <th>Close</th>\n",
              "      <th>Volume</th>\n",
              "      <th>Dividends</th>\n",
              "      <th>Stock Splits</th>\n",
              "    </tr>\n",
              "    <tr>\n",
              "      <th>Date</th>\n",
              "      <th></th>\n",
              "      <th></th>\n",
              "      <th></th>\n",
              "      <th></th>\n",
              "      <th></th>\n",
              "      <th></th>\n",
              "      <th></th>\n",
              "    </tr>\n",
              "  </thead>\n",
              "  <tbody>\n",
              "    <tr>\n",
              "      <th>2019-09-09</th>\n",
              "      <td>30.930000</td>\n",
              "      <td>31.180000</td>\n",
              "      <td>30.240000</td>\n",
              "      <td>30.500000</td>\n",
              "      <td>54413200</td>\n",
              "      <td>0</td>\n",
              "      <td>0</td>\n",
              "    </tr>\n",
              "    <tr>\n",
              "      <th>2019-09-10</th>\n",
              "      <td>30.219999</td>\n",
              "      <td>30.379999</td>\n",
              "      <td>29.770000</td>\n",
              "      <td>30.230000</td>\n",
              "      <td>48604800</td>\n",
              "      <td>0</td>\n",
              "      <td>0</td>\n",
              "    </tr>\n",
              "    <tr>\n",
              "      <th>2019-09-11</th>\n",
              "      <td>30.379999</td>\n",
              "      <td>30.430000</td>\n",
              "      <td>29.510000</td>\n",
              "      <td>29.760000</td>\n",
              "      <td>50631700</td>\n",
              "      <td>0</td>\n",
              "      <td>0</td>\n",
              "    </tr>\n",
              "    <tr>\n",
              "      <th>2019-09-12</th>\n",
              "      <td>30.080000</td>\n",
              "      <td>30.840000</td>\n",
              "      <td>29.950001</td>\n",
              "      <td>30.209999</td>\n",
              "      <td>53618300</td>\n",
              "      <td>0</td>\n",
              "      <td>0</td>\n",
              "    </tr>\n",
              "    <tr>\n",
              "      <th>2019-09-13</th>\n",
              "      <td>30.270000</td>\n",
              "      <td>30.850000</td>\n",
              "      <td>29.950001</td>\n",
              "      <td>30.690001</td>\n",
              "      <td>47758800</td>\n",
              "      <td>0</td>\n",
              "      <td>0</td>\n",
              "    </tr>\n",
              "  </tbody>\n",
              "</table>\n",
              "</div>"
            ],
            "text/plain": [
              "                 Open       High        Low  ...    Volume  Dividends  Stock Splits\n",
              "Date                                         ...                                   \n",
              "2019-09-09  30.930000  31.180000  30.240000  ...  54413200          0             0\n",
              "2019-09-10  30.219999  30.379999  29.770000  ...  48604800          0             0\n",
              "2019-09-11  30.379999  30.430000  29.510000  ...  50631700          0             0\n",
              "2019-09-12  30.080000  30.840000  29.950001  ...  53618300          0             0\n",
              "2019-09-13  30.270000  30.850000  29.950001  ...  47758800          0             0\n",
              "\n",
              "[5 rows x 7 columns]"
            ]
          },
          "metadata": {},
          "execution_count": 173
        }
      ]
    },
    {
      "cell_type": "code",
      "metadata": {
        "colab": {
          "base_uri": "https://localhost:8080/",
          "height": 296
        },
        "id": "v_j8_bXDZEYV",
        "outputId": "6107854a-6c56-48f5-aeb2-14fc290d1418"
      },
      "source": [
        "amd_share_price_data.reset_index(inplace=True)\n",
        "amd_share_price_data.plot(x=\"Date\", y=\"Open\")"
      ],
      "execution_count": 174,
      "outputs": [
        {
          "output_type": "execute_result",
          "data": {
            "text/plain": [
              "<matplotlib.axes._subplots.AxesSubplot at 0x7f9802dd7110>"
            ]
          },
          "metadata": {},
          "execution_count": 174
        },
        {
          "output_type": "display_data",
          "data": {
            "image/png": "[encoded data removed]",
            "text/plain": [
              "<Figure size 432x288 with 1 Axes>"
            ]
          },
          "metadata": {
            "needs_background": "light"
          }
        }
      ]
    },
    {
      "cell_type": "code",
      "metadata": {
        "colab": {
          "base_uri": "https://localhost:8080/",
          "height": 359
        },
        "id": "0ZBuWF819elH",
        "outputId": "85c8b186-0d24-4122-cd73-dbf7a6314f9c"
      },
      "source": [
        "amd.institutional_holders\n"
      ],
      "execution_count": 82,
      "outputs": [
        {
          "output_type": "execute_result",
          "data": {
            "text/html": [
              "<div>\n",
              "<style scoped>\n",
              "    .dataframe tbody tr th:only-of-type {\n",
              "        vertical-align: middle;\n",
              "    }\n",
              "\n",
              "    .dataframe tbody tr th {\n",
              "        vertical-align: top;\n",
              "    }\n",
              "\n",
              "    .dataframe thead th {\n",
              "        text-align: right;\n",
              "    }\n",
              "</style>\n",
              "<table border=\"1\" class=\"dataframe\">\n",
              "  <thead>\n",
              "    <tr style=\"text-align: right;\">\n",
              "      <th></th>\n",
              "      <th>Holder</th>\n",
              "      <th>Shares</th>\n",
              "      <th>Date Reported</th>\n",
              "      <th>% Out</th>\n",
              "      <th>Value</th>\n",
              "    </tr>\n",
              "  </thead>\n",
              "  <tbody>\n",
              "    <tr>\n",
              "      <th>0</th>\n",
              "      <td>Vanguard Group, Inc. (The)</td>\n",
              "      <td>97500198</td>\n",
              "      <td>2021-06-29</td>\n",
              "      <td>0.0804</td>\n",
              "      <td>9158193598</td>\n",
              "    </tr>\n",
              "    <tr>\n",
              "      <th>1</th>\n",
              "      <td>Blackrock Inc.</td>\n",
              "      <td>85529419</td>\n",
              "      <td>2021-06-29</td>\n",
              "      <td>0.0705</td>\n",
              "      <td>8033778326</td>\n",
              "    </tr>\n",
              "    <tr>\n",
              "      <th>2</th>\n",
              "      <td>State Street Corporation</td>\n",
              "      <td>43978929</td>\n",
              "      <td>2021-06-29</td>\n",
              "      <td>0.0363</td>\n",
              "      <td>4130940800</td>\n",
              "    </tr>\n",
              "    <tr>\n",
              "      <th>3</th>\n",
              "      <td>Price (T.Rowe) Associates Inc</td>\n",
              "      <td>42699742</td>\n",
              "      <td>2021-06-29</td>\n",
              "      <td>0.0352</td>\n",
              "      <td>4010786766</td>\n",
              "    </tr>\n",
              "    <tr>\n",
              "      <th>4</th>\n",
              "      <td>Capital World Investors</td>\n",
              "      <td>41061159</td>\n",
              "      <td>2021-06-29</td>\n",
              "      <td>0.0339</td>\n",
              "      <td>3856874664</td>\n",
              "    </tr>\n",
              "    <tr>\n",
              "      <th>5</th>\n",
              "      <td>JP Morgan Chase &amp; Company</td>\n",
              "      <td>34559339</td>\n",
              "      <td>2021-06-29</td>\n",
              "      <td>0.0285</td>\n",
              "      <td>3246158712</td>\n",
              "    </tr>\n",
              "    <tr>\n",
              "      <th>6</th>\n",
              "      <td>FMR, LLC</td>\n",
              "      <td>30750462</td>\n",
              "      <td>2021-06-29</td>\n",
              "      <td>0.0254</td>\n",
              "      <td>2888390895</td>\n",
              "    </tr>\n",
              "    <tr>\n",
              "      <th>7</th>\n",
              "      <td>Wellington Management Group, LLP</td>\n",
              "      <td>24076572</td>\n",
              "      <td>2021-06-29</td>\n",
              "      <td>0.0198</td>\n",
              "      <td>2261512407</td>\n",
              "    </tr>\n",
              "    <tr>\n",
              "      <th>8</th>\n",
              "      <td>Geode Capital Management, LLC</td>\n",
              "      <td>18814414</td>\n",
              "      <td>2021-06-29</td>\n",
              "      <td>0.0155</td>\n",
              "      <td>1767237907</td>\n",
              "    </tr>\n",
              "    <tr>\n",
              "      <th>9</th>\n",
              "      <td>Artisan Partners Limited Partnership</td>\n",
              "      <td>12858635</td>\n",
              "      <td>2021-06-29</td>\n",
              "      <td>0.0106</td>\n",
              "      <td>1207811585</td>\n",
              "    </tr>\n",
              "  </tbody>\n",
              "</table>\n",
              "</div>"
            ],
            "text/plain": [
              "                                 Holder    Shares  ...   % Out       Value\n",
              "0            Vanguard Group, Inc. (The)  97500198  ...  0.0804  9158193598\n",
              "1                        Blackrock Inc.  85529419  ...  0.0705  8033778326\n",
              "2              State Street Corporation  43978929  ...  0.0363  4130940800\n",
              "3         Price (T.Rowe) Associates Inc  42699742  ...  0.0352  4010786766\n",
              "4               Capital World Investors  41061159  ...  0.0339  3856874664\n",
              "5             JP Morgan Chase & Company  34559339  ...  0.0285  3246158712\n",
              "6                              FMR, LLC  30750462  ...  0.0254  2888390895\n",
              "7      Wellington Management Group, LLP  24076572  ...  0.0198  2261512407\n",
              "8         Geode Capital Management, LLC  18814414  ...  0.0155  1767237907\n",
              "9  Artisan Partners Limited Partnership  12858635  ...  0.0106  1207811585\n",
              "\n",
              "[10 rows x 5 columns]"
            ]
          },
          "metadata": {},
          "execution_count": 82
        }
      ]
    },
    {
      "cell_type": "code",
      "metadata": {
        "colab": {
          "base_uri": "https://localhost:8080/",
          "height": 359
        },
        "id": "yDMXFztY-jSO",
        "outputId": "7ce33d0c-0d4f-4233-d979-fa6566dcf9f7"
      },
      "source": [
        "amd.institutional_holders\n",
        "bar_data=amd.institutional_holders.groupby(['Holder'])['Value'].sum().reset_index()\n",
        "bar_data\n"
      ],
      "execution_count": 100,
      "outputs": [
        {
          "output_type": "execute_result",
          "data": {
            "text/html": [
              "<div>\n",
              "<style scoped>\n",
              "    .dataframe tbody tr th:only-of-type {\n",
              "        vertical-align: middle;\n",
              "    }\n",
              "\n",
              "    .dataframe tbody tr th {\n",
              "        vertical-align: top;\n",
              "    }\n",
              "\n",
              "    .dataframe thead th {\n",
              "        text-align: right;\n",
              "    }\n",
              "</style>\n",
              "<table border=\"1\" class=\"dataframe\">\n",
              "  <thead>\n",
              "    <tr style=\"text-align: right;\">\n",
              "      <th></th>\n",
              "      <th>Holder</th>\n",
              "      <th>Value</th>\n",
              "    </tr>\n",
              "  </thead>\n",
              "  <tbody>\n",
              "    <tr>\n",
              "      <th>0</th>\n",
              "      <td>Artisan Partners Limited Partnership</td>\n",
              "      <td>1207811585</td>\n",
              "    </tr>\n",
              "    <tr>\n",
              "      <th>1</th>\n",
              "      <td>Blackrock Inc.</td>\n",
              "      <td>8033778326</td>\n",
              "    </tr>\n",
              "    <tr>\n",
              "      <th>2</th>\n",
              "      <td>Capital World Investors</td>\n",
              "      <td>3856874664</td>\n",
              "    </tr>\n",
              "    <tr>\n",
              "      <th>3</th>\n",
              "      <td>FMR, LLC</td>\n",
              "      <td>2888390895</td>\n",
              "    </tr>\n",
              "    <tr>\n",
              "      <th>4</th>\n",
              "      <td>Geode Capital Management, LLC</td>\n",
              "      <td>1767237907</td>\n",
              "    </tr>\n",
              "    <tr>\n",
              "      <th>5</th>\n",
              "      <td>JP Morgan Chase &amp; Company</td>\n",
              "      <td>3246158712</td>\n",
              "    </tr>\n",
              "    <tr>\n",
              "      <th>6</th>\n",
              "      <td>Price (T.Rowe) Associates Inc</td>\n",
              "      <td>4010786766</td>\n",
              "    </tr>\n",
              "    <tr>\n",
              "      <th>7</th>\n",
              "      <td>State Street Corporation</td>\n",
              "      <td>4130940800</td>\n",
              "    </tr>\n",
              "    <tr>\n",
              "      <th>8</th>\n",
              "      <td>Vanguard Group, Inc. (The)</td>\n",
              "      <td>9158193598</td>\n",
              "    </tr>\n",
              "    <tr>\n",
              "      <th>9</th>\n",
              "      <td>Wellington Management Group, LLP</td>\n",
              "      <td>2261512407</td>\n",
              "    </tr>\n",
              "  </tbody>\n",
              "</table>\n",
              "</div>"
            ],
            "text/plain": [
              "                                 Holder       Value\n",
              "0  Artisan Partners Limited Partnership  1207811585\n",
              "1                        Blackrock Inc.  8033778326\n",
              "2               Capital World Investors  3856874664\n",
              "3                              FMR, LLC  2888390895\n",
              "4         Geode Capital Management, LLC  1767237907\n",
              "5             JP Morgan Chase & Company  3246158712\n",
              "6         Price (T.Rowe) Associates Inc  4010786766\n",
              "7              State Street Corporation  4130940800\n",
              "8            Vanguard Group, Inc. (The)  9158193598\n",
              "9      Wellington Management Group, LLP  2261512407"
            ]
          },
          "metadata": {},
          "execution_count": 100
        }
      ]
    },
    {
      "cell_type": "code",
      "metadata": {
        "colab": {
          "base_uri": "https://localhost:8080/",
          "height": 541
        },
        "id": "kq96SpL_KJKk",
        "outputId": "a18fa649-ec30-4c96-a9b9-810934e02e60"
      },
      "source": [
        "fig=px.bar(bar_data,x=\"Holder\",y=\"Value\",title='Total number of main institutional Holders')\n",
        "fig.show()"
      ],
      "execution_count": 102,
      "outputs": [
        {
          "output_type": "display_data",
          "data": {
            "text/html": [
              "<html>\n",
              "<head><meta charset=\"utf-8\" /></head>\n",
              "<body>\n",
              "    <div>\n",
              "            <script src=\"https://cdnjs.cloudflare.com/ajax/libs/mathjax/2.7.5/MathJax.js?config=TeX-AMS-MML_SVG\"></script><script type=\"text/javascript\">if (window.MathJax) {MathJax.Hub.Config({SVG: {font: \"STIX-Web\"}});}</script>\n",
              "                <script type=\"text/javascript\">window.PlotlyConfig = {MathJaxConfig: 'local'};</script>\n",
              "        <script src=\"https://cdn.plot.ly/plotly-latest.min.js\"></script>    \n",
              "            <div id=\"f5d32564-c583-414e-b629-f1c8babd68e5\" class=\"plotly-graph-div\" style=\"height:525px; width:100%;\"></div>\n",
              "            <script type=\"text/javascript\">\n",
              "                \n",
              "                    window.PLOTLYENV=window.PLOTLYENV || {};\n",
              "                    \n",
              "                if (document.getElementById(\"f5d32564-c583-414e-b629-f1c8babd68e5\")) {\n",
              "                    Plotly.newPlot(\n",
              "                        'f5d32564-c583-414e-b629-f1c8babd68e5',\n",
              "                        [{\"alignmentgroup\": \"True\", \"hoverlabel\": {\"namelength\": 0}, \"hovertemplate\": \"Holder=%{x}<br>Value=%{y}\", \"legendgroup\": \"\", \"marker\": {\"color\": \"#636efa\"}, \"name\": \"\", \"offsetgroup\": \"\", \"orientation\": \"v\", \"showlegend\": false, \"textposition\": \"auto\", \"type\": \"bar\", \"x\": [\"Artisan Partners Limited Partnership\", \"Blackrock Inc.\", \"Capital World Investors\", \"FMR, LLC\", \"Geode Capital Management, LLC\", \"JP Morgan Chase & Company\", \"Price (T.Rowe) Associates Inc\", \"State Street Corporation\", \"Vanguard Group, Inc. (The)\", \"Wellington Management Group, LLP\"], \"xaxis\": \"x\", \"y\": [1207811585, 8033778326, 3856874664, 2888390895, 1767237907, 3246158712, 4010786766, 4130940800, 9158193598, 2261512407], \"yaxis\": \"y\"}],\n",
              "                        {\"barmode\": \"relative\", \"legend\": {\"tracegroupgap\": 0}, \"template\": {\"data\": {\"bar\": [{\"error_x\": {\"color\": \"#2a3f5f\"}, \"error_y\": {\"color\": \"#2a3f5f\"}, \"marker\": {\"line\": {\"color\": \"#E5ECF6\", \"width\": 0.5}}, \"type\": \"bar\"}], \"barpolar\": [{\"marker\": {\"line\": {\"color\": \"#E5ECF6\", \"width\": 0.5}}, \"type\": \"barpolar\"}], \"carpet\": [{\"aaxis\": {\"endlinecolor\": \"#2a3f5f\", \"gridcolor\": \"white\", \"linecolor\": \"white\", \"minorgridcolor\": \"white\", \"startlinecolor\": \"#2a3f5f\"}, \"baxis\": {\"endlinecolor\": \"#2a3f5f\", \"gridcolor\": \"white\", \"linecolor\": \"white\", \"minorgridcolor\": \"white\", \"startlinecolor\": \"#2a3f5f\"}, \"type\": \"carpet\"}], \"choropleth\": [{\"colorbar\": {\"outlinewidth\": 0, \"ticks\": \"\"}, \"type\": \"choropleth\"}], \"contour\": [{\"colorbar\": {\"outlinewidth\": 0, \"ticks\": \"\"}, \"colorscale\": [[0.0, \"#0d0887\"], [0.1111111111111111, \"#46039f\"], [0.2222222222222222, \"#7201a8\"], [0.3333333333333333, \"#9c179e\"], [0.4444444444444444, \"#bd3786\"], [0.5555555555555556, \"#d8576b\"], [0.6666666666666666, \"#ed7953\"], [0.7777777777777778, \"#fb9f3a\"], [0.8888888888888888, \"#fdca26\"], [1.0, \"#f0f921\"]], \"type\": \"contour\"}], \"contourcarpet\": [{\"colorbar\": {\"outlinewidth\": 0, \"ticks\": \"\"}, \"type\": \"contourcarpet\"}], \"heatmap\": [{\"colorbar\": {\"outlinewidth\": 0, \"ticks\": \"\"}, \"colorscale\": [[0.0, \"#0d0887\"], [0.1111111111111111, \"#46039f\"], [0.2222222222222222, \"#7201a8\"], [0.3333333333333333, \"#9c179e\"], [0.4444444444444444, \"#bd3786\"], [0.5555555555555556, \"#d8576b\"], [0.6666666666666666, \"#ed7953\"], [0.7777777777777778, \"#fb9f3a\"], [0.8888888888888888, \"#fdca26\"], [1.0, \"#f0f921\"]], \"type\": \"heatmap\"}], \"heatmapgl\": [{\"colorbar\": {\"outlinewidth\": 0, \"ticks\": \"\"}, \"colorscale\": [[0.0, \"#0d0887\"], [0.1111111111111111, \"#46039f\"], [0.2222222222222222, \"#7201a8\"], [0.3333333333333333, \"#9c179e\"], [0.4444444444444444, \"#bd3786\"], [0.5555555555555556, \"#d8576b\"], [0.6666666666666666, \"#ed7953\"], [0.7777777777777778, \"#fb9f3a\"], [0.8888888888888888, \"#fdca26\"], [1.0, \"#f0f921\"]], \"type\": \"heatmapgl\"}], \"histogram\": [{\"marker\": {\"colorbar\": {\"outlinewidth\": 0, \"ticks\": \"\"}}, \"type\": \"histogram\"}], \"histogram2d\": [{\"colorbar\": {\"outlinewidth\": 0, \"ticks\": \"\"}, \"colorscale\": [[0.0, \"#0d0887\"], [0.1111111111111111, \"#46039f\"], [0.2222222222222222, \"#7201a8\"], [0.3333333333333333, \"#9c179e\"], [0.4444444444444444, \"#bd3786\"], [0.5555555555555556, \"#d8576b\"], [0.6666666666666666, \"#ed7953\"], [0.7777777777777778, \"#fb9f3a\"], [0.8888888888888888, \"#fdca26\"], [1.0, \"#f0f921\"]], \"type\": \"histogram2d\"}], \"histogram2dcontour\": [{\"colorbar\": {\"outlinewidth\": 0, \"ticks\": \"\"}, \"colorscale\": [[0.0, \"#0d0887\"], [0.1111111111111111, \"#46039f\"], [0.2222222222222222, \"#7201a8\"], [0.3333333333333333, \"#9c179e\"], [0.4444444444444444, \"#bd3786\"], [0.5555555555555556, \"#d8576b\"], [0.6666666666666666, \"#ed7953\"], [0.7777777777777778, \"#fb9f3a\"], [0.8888888888888888, \"#fdca26\"], [1.0, \"#f0f921\"]], \"type\": \"histogram2dcontour\"}], \"mesh3d\": [{\"colorbar\": {\"outlinewidth\": 0, \"ticks\": \"\"}, \"type\": \"mesh3d\"}], \"parcoords\": [{\"line\": {\"colorbar\": {\"outlinewidth\": 0, \"ticks\": \"\"}}, \"type\": \"parcoords\"}], \"pie\": [{\"automargin\": true, \"type\": \"pie\"}], \"scatter\": [{\"marker\": {\"colorbar\": {\"outlinewidth\": 0, \"ticks\": \"\"}}, \"type\": \"scatter\"}], \"scatter3d\": [{\"line\": {\"colorbar\": {\"outlinewidth\": 0, \"ticks\": \"\"}}, \"marker\": {\"colorbar\": {\"outlinewidth\": 0, \"ticks\": \"\"}}, \"type\": \"scatter3d\"}], \"scattercarpet\": [{\"marker\": {\"colorbar\": {\"outlinewidth\": 0, \"ticks\": \"\"}}, \"type\": \"scattercarpet\"}], \"scattergeo\": [{\"marker\": {\"colorbar\": {\"outlinewidth\": 0, \"ticks\": \"\"}}, \"type\": \"scattergeo\"}], \"scattergl\": [{\"marker\": {\"colorbar\": {\"outlinewidth\": 0, \"ticks\": \"\"}}, \"type\": \"scattergl\"}], \"scattermapbox\": [{\"marker\": {\"colorbar\": {\"outlinewidth\": 0, \"ticks\": \"\"}}, \"type\": \"scattermapbox\"}], \"scatterpolar\": [{\"marker\": {\"colorbar\": {\"outlinewidth\": 0, \"ticks\": \"\"}}, \"type\": \"scatterpolar\"}], \"scatterpolargl\": [{\"marker\": {\"colorbar\": {\"outlinewidth\": 0, \"ticks\": \"\"}}, \"type\": \"scatterpolargl\"}], \"scatterternary\": [{\"marker\": {\"colorbar\": {\"outlinewidth\": 0, \"ticks\": \"\"}}, \"type\": \"scatterternary\"}], \"surface\": [{\"colorbar\": {\"outlinewidth\": 0, \"ticks\": \"\"}, \"colorscale\": [[0.0, \"#0d0887\"], [0.1111111111111111, \"#46039f\"], [0.2222222222222222, \"#7201a8\"], [0.3333333333333333, \"#9c179e\"], [0.4444444444444444, \"#bd3786\"], [0.5555555555555556, \"#d8576b\"], [0.6666666666666666, \"#ed7953\"], [0.7777777777777778, \"#fb9f3a\"], [0.8888888888888888, \"#fdca26\"], [1.0, \"#f0f921\"]], \"type\": \"surface\"}], \"table\": [{\"cells\": {\"fill\": {\"color\": \"#EBF0F8\"}, \"line\": {\"color\": \"white\"}}, \"header\": {\"fill\": {\"color\": \"#C8D4E3\"}, \"line\": {\"color\": \"white\"}}, \"type\": \"table\"}]}, \"layout\": {\"annotationdefaults\": {\"arrowcolor\": \"#2a3f5f\", \"arrowhead\": 0, \"arrowwidth\": 1}, \"coloraxis\": {\"colorbar\": {\"outlinewidth\": 0, \"ticks\": \"\"}}, \"colorscale\": {\"diverging\": [[0, \"#8e0152\"], [0.1, \"#c51b7d\"], [0.2, \"#de77ae\"], [0.3, \"#f1b6da\"], [0.4, \"#fde0ef\"], [0.5, \"#f7f7f7\"], [0.6, \"#e6f5d0\"], [0.7, \"#b8e186\"], [0.8, \"#7fbc41\"], [0.9, \"#4d9221\"], [1, \"#276419\"]], \"sequential\": [[0.0, \"#0d0887\"], [0.1111111111111111, \"#46039f\"], [0.2222222222222222, \"#7201a8\"], [0.3333333333333333, \"#9c179e\"], [0.4444444444444444, \"#bd3786\"], [0.5555555555555556, \"#d8576b\"], [0.6666666666666666, \"#ed7953\"], [0.7777777777777778, \"#fb9f3a\"], [0.8888888888888888, \"#fdca26\"], [1.0, \"#f0f921\"]], \"sequentialminus\": [[0.0, \"#0d0887\"], [0.1111111111111111, \"#46039f\"], [0.2222222222222222, \"#7201a8\"], [0.3333333333333333, \"#9c179e\"], [0.4444444444444444, \"#bd3786\"], [0.5555555555555556, \"#d8576b\"], [0.6666666666666666, \"#ed7953\"], [0.7777777777777778, \"#fb9f3a\"], [0.8888888888888888, \"#fdca26\"], [1.0, \"#f0f921\"]]}, \"colorway\": [\"#636efa\", \"#EF553B\", \"#00cc96\", \"#ab63fa\", \"#FFA15A\", \"#19d3f3\", \"#FF6692\", \"#B6E880\", \"#FF97FF\", \"#FECB52\"], \"font\": {\"color\": \"#2a3f5f\"}, \"geo\": {\"bgcolor\": \"white\", \"lakecolor\": \"white\", \"landcolor\": \"#E5ECF6\", \"showlakes\": true, \"showland\": true, \"subunitcolor\": \"white\"}, \"hoverlabel\": {\"align\": \"left\"}, \"hovermode\": \"closest\", \"mapbox\": {\"style\": \"light\"}, \"paper_bgcolor\": \"white\", \"plot_bgcolor\": \"#E5ECF6\", \"polar\": {\"angularaxis\": {\"gridcolor\": \"white\", \"linecolor\": \"white\", \"ticks\": \"\"}, \"bgcolor\": \"#E5ECF6\", \"radialaxis\": {\"gridcolor\": \"white\", \"linecolor\": \"white\", \"ticks\": \"\"}}, \"scene\": {\"xaxis\": {\"backgroundcolor\": \"#E5ECF6\", \"gridcolor\": \"white\", \"gridwidth\": 2, \"linecolor\": \"white\", \"showbackground\": true, \"ticks\": \"\", \"zerolinecolor\": \"white\"}, \"yaxis\": {\"backgroundcolor\": \"#E5ECF6\", \"gridcolor\": \"white\", \"gridwidth\": 2, \"linecolor\": \"white\", \"showbackground\": true, \"ticks\": \"\", \"zerolinecolor\": \"white\"}, \"zaxis\": {\"backgroundcolor\": \"#E5ECF6\", \"gridcolor\": \"white\", \"gridwidth\": 2, \"linecolor\": \"white\", \"showbackground\": true, \"ticks\": \"\", \"zerolinecolor\": \"white\"}}, \"shapedefaults\": {\"line\": {\"color\": \"#2a3f5f\"}}, \"ternary\": {\"aaxis\": {\"gridcolor\": \"white\", \"linecolor\": \"white\", \"ticks\": \"\"}, \"baxis\": {\"gridcolor\": \"white\", \"linecolor\": \"white\", \"ticks\": \"\"}, \"bgcolor\": \"#E5ECF6\", \"caxis\": {\"gridcolor\": \"white\", \"linecolor\": \"white\", \"ticks\": \"\"}}, \"title\": {\"x\": 0.05}, \"xaxis\": {\"automargin\": true, \"gridcolor\": \"white\", \"linecolor\": \"white\", \"ticks\": \"\", \"title\": {\"standoff\": 15}, \"zerolinecolor\": \"white\", \"zerolinewidth\": 2}, \"yaxis\": {\"automargin\": true, \"gridcolor\": \"white\", \"linecolor\": \"white\", \"ticks\": \"\", \"title\": {\"standoff\": 15}, \"zerolinecolor\": \"white\", \"zerolinewidth\": 2}}}, \"title\": {\"text\": \"Total number of main institutional Holders\"}, \"xaxis\": {\"anchor\": \"y\", \"domain\": [0.0, 1.0], \"title\": {\"text\": \"Holder\"}}, \"yaxis\": {\"anchor\": \"x\", \"domain\": [0.0, 1.0], \"title\": {\"text\": \"Value\"}}},\n",
              "                        {\"responsive\": true}\n",
              "                    ).then(function(){\n",
              "                            \n",
              "var gd = document.getElementById('f5d32564-c583-414e-b629-f1c8babd68e5');\n",
              "var x = new MutationObserver(function (mutations, observer) {{\n",
              "        var display = window.getComputedStyle(gd).display;\n",
              "        if (!display || display === 'none') {{\n",
              "            console.log([gd, 'removed!']);\n",
              "            Plotly.purge(gd);\n",
              "            observer.disconnect();\n",
              "        }}\n",
              "}});\n",
              "\n",
              "// Listen for the removal of the full notebook cells\n",
              "var notebookContainer = gd.closest('#notebook-container');\n",
              "if (notebookContainer) {{\n",
              "    x.observe(notebookContainer, {childList: true});\n",
              "}}\n",
              "\n",
              "// Listen for the clearing of the current output cell\n",
              "var outputEl = gd.closest('.output');\n",
              "if (outputEl) {{\n",
              "    x.observe(outputEl, {childList: true});\n",
              "}}\n",
              "\n",
              "                        })\n",
              "                };\n",
              "                \n",
              "            </script>\n",
              "        </div>\n",
              "</body>\n",
              "</html>"
            ]
          },
          "metadata": {}
        }
      ]
    },
    {
      "cell_type": "code",
      "metadata": {
        "colab": {
          "base_uri": "https://localhost:8080/",
          "height": 732
        },
        "id": "yKiPNfreA609",
        "outputId": "0a549e4a-a865-41a7-cbda-79d95490698b"
      },
      "source": [
        "amd.financials"
      ],
      "execution_count": 103,
      "outputs": [
        {
          "output_type": "execute_result",
          "data": {
            "text/html": [
              "<div>\n",
              "<style scoped>\n",
              "    .dataframe tbody tr th:only-of-type {\n",
              "        vertical-align: middle;\n",
              "    }\n",
              "\n",
              "    .dataframe tbody tr th {\n",
              "        vertical-align: top;\n",
              "    }\n",
              "\n",
              "    .dataframe thead th {\n",
              "        text-align: right;\n",
              "    }\n",
              "</style>\n",
              "<table border=\"1\" class=\"dataframe\">\n",
              "  <thead>\n",
              "    <tr style=\"text-align: right;\">\n",
              "      <th></th>\n",
              "      <th>2020-12-26</th>\n",
              "      <th>2019-12-28</th>\n",
              "      <th>2018-12-29</th>\n",
              "      <th>2017-12-30</th>\n",
              "    </tr>\n",
              "  </thead>\n",
              "  <tbody>\n",
              "    <tr>\n",
              "      <th>Research Development</th>\n",
              "      <td>1.983e+09</td>\n",
              "      <td>1.547e+09</td>\n",
              "      <td>1.434e+09</td>\n",
              "      <td>1.196e+09</td>\n",
              "    </tr>\n",
              "    <tr>\n",
              "      <th>Effect Of Accounting Charges</th>\n",
              "      <td>None</td>\n",
              "      <td>None</td>\n",
              "      <td>None</td>\n",
              "      <td>None</td>\n",
              "    </tr>\n",
              "    <tr>\n",
              "      <th>Income Before Tax</th>\n",
              "      <td>1.28e+09</td>\n",
              "      <td>3.72e+08</td>\n",
              "      <td>3.28e+08</td>\n",
              "      <td>-1.5e+07</td>\n",
              "    </tr>\n",
              "    <tr>\n",
              "      <th>Minority Interest</th>\n",
              "      <td>None</td>\n",
              "      <td>None</td>\n",
              "      <td>None</td>\n",
              "      <td>None</td>\n",
              "    </tr>\n",
              "    <tr>\n",
              "      <th>Net Income</th>\n",
              "      <td>2.49e+09</td>\n",
              "      <td>3.41e+08</td>\n",
              "      <td>3.37e+08</td>\n",
              "      <td>-3.3e+07</td>\n",
              "    </tr>\n",
              "    <tr>\n",
              "      <th>Selling General Administrative</th>\n",
              "      <td>9.95e+08</td>\n",
              "      <td>7.5e+08</td>\n",
              "      <td>5.62e+08</td>\n",
              "      <td>5.16e+08</td>\n",
              "    </tr>\n",
              "    <tr>\n",
              "      <th>Gross Profit</th>\n",
              "      <td>4.347e+09</td>\n",
              "      <td>2.868e+09</td>\n",
              "      <td>2.447e+09</td>\n",
              "      <td>1.787e+09</td>\n",
              "    </tr>\n",
              "    <tr>\n",
              "      <th>Ebit</th>\n",
              "      <td>1.369e+09</td>\n",
              "      <td>6.31e+08</td>\n",
              "      <td>4.51e+08</td>\n",
              "      <td>1.27e+08</td>\n",
              "    </tr>\n",
              "    <tr>\n",
              "      <th>Operating Income</th>\n",
              "      <td>1.369e+09</td>\n",
              "      <td>6.31e+08</td>\n",
              "      <td>4.51e+08</td>\n",
              "      <td>1.27e+08</td>\n",
              "    </tr>\n",
              "    <tr>\n",
              "      <th>Other Operating Expenses</th>\n",
              "      <td>NaN</td>\n",
              "      <td>-6e+07</td>\n",
              "      <td>-6e+07</td>\n",
              "      <td>-5.2e+07</td>\n",
              "    </tr>\n",
              "    <tr>\n",
              "      <th>Interest Expense</th>\n",
              "      <td>-4.7e+07</td>\n",
              "      <td>-9.4e+07</td>\n",
              "      <td>-1.21e+08</td>\n",
              "      <td>-1.26e+08</td>\n",
              "    </tr>\n",
              "    <tr>\n",
              "      <th>Extraordinary Items</th>\n",
              "      <td>None</td>\n",
              "      <td>None</td>\n",
              "      <td>None</td>\n",
              "      <td>None</td>\n",
              "    </tr>\n",
              "    <tr>\n",
              "      <th>Non Recurring</th>\n",
              "      <td>None</td>\n",
              "      <td>None</td>\n",
              "      <td>None</td>\n",
              "      <td>None</td>\n",
              "    </tr>\n",
              "    <tr>\n",
              "      <th>Other Items</th>\n",
              "      <td>None</td>\n",
              "      <td>None</td>\n",
              "      <td>None</td>\n",
              "      <td>None</td>\n",
              "    </tr>\n",
              "    <tr>\n",
              "      <th>Income Tax Expense</th>\n",
              "      <td>-1.21e+09</td>\n",
              "      <td>3.1e+07</td>\n",
              "      <td>-9e+06</td>\n",
              "      <td>1.8e+07</td>\n",
              "    </tr>\n",
              "    <tr>\n",
              "      <th>Total Revenue</th>\n",
              "      <td>9.763e+09</td>\n",
              "      <td>6.731e+09</td>\n",
              "      <td>6.475e+09</td>\n",
              "      <td>5.253e+09</td>\n",
              "    </tr>\n",
              "    <tr>\n",
              "      <th>Total Operating Expenses</th>\n",
              "      <td>8.394e+09</td>\n",
              "      <td>6.1e+09</td>\n",
              "      <td>6.024e+09</td>\n",
              "      <td>5.126e+09</td>\n",
              "    </tr>\n",
              "    <tr>\n",
              "      <th>Cost Of Revenue</th>\n",
              "      <td>5.416e+09</td>\n",
              "      <td>3.863e+09</td>\n",
              "      <td>4.028e+09</td>\n",
              "      <td>3.466e+09</td>\n",
              "    </tr>\n",
              "    <tr>\n",
              "      <th>Total Other Income Expense Net</th>\n",
              "      <td>-8.9e+07</td>\n",
              "      <td>-2.59e+08</td>\n",
              "      <td>-1.23e+08</td>\n",
              "      <td>-1.42e+08</td>\n",
              "    </tr>\n",
              "    <tr>\n",
              "      <th>Discontinued Operations</th>\n",
              "      <td>None</td>\n",
              "      <td>None</td>\n",
              "      <td>None</td>\n",
              "      <td>None</td>\n",
              "    </tr>\n",
              "    <tr>\n",
              "      <th>Net Income From Continuing Ops</th>\n",
              "      <td>2.49e+09</td>\n",
              "      <td>3.41e+08</td>\n",
              "      <td>3.37e+08</td>\n",
              "      <td>-3.3e+07</td>\n",
              "    </tr>\n",
              "    <tr>\n",
              "      <th>Net Income Applicable To Common Shares</th>\n",
              "      <td>2.49e+09</td>\n",
              "      <td>3.41e+08</td>\n",
              "      <td>3.37e+08</td>\n",
              "      <td>-3.3e+07</td>\n",
              "    </tr>\n",
              "  </tbody>\n",
              "</table>\n",
              "</div>"
            ],
            "text/plain": [
              "                                       2020-12-26  ... 2017-12-30\n",
              "Research Development                    1.983e+09  ...  1.196e+09\n",
              "Effect Of Accounting Charges                 None  ...       None\n",
              "Income Before Tax                        1.28e+09  ...   -1.5e+07\n",
              "Minority Interest                            None  ...       None\n",
              "Net Income                               2.49e+09  ...   -3.3e+07\n",
              "Selling General Administrative           9.95e+08  ...   5.16e+08\n",
              "Gross Profit                            4.347e+09  ...  1.787e+09\n",
              "Ebit                                    1.369e+09  ...   1.27e+08\n",
              "Operating Income                        1.369e+09  ...   1.27e+08\n",
              "Other Operating Expenses                      NaN  ...   -5.2e+07\n",
              "Interest Expense                         -4.7e+07  ...  -1.26e+08\n",
              "Extraordinary Items                          None  ...       None\n",
              "Non Recurring                                None  ...       None\n",
              "Other Items                                  None  ...       None\n",
              "Income Tax Expense                      -1.21e+09  ...    1.8e+07\n",
              "Total Revenue                           9.763e+09  ...  5.253e+09\n",
              "Total Operating Expenses                8.394e+09  ...  5.126e+09\n",
              "Cost Of Revenue                         5.416e+09  ...  3.466e+09\n",
              "Total Other Income Expense Net           -8.9e+07  ...  -1.42e+08\n",
              "Discontinued Operations                      None  ...       None\n",
              "Net Income From Continuing Ops           2.49e+09  ...   -3.3e+07\n",
              "Net Income Applicable To Common Shares   2.49e+09  ...   -3.3e+07\n",
              "\n",
              "[22 rows x 4 columns]"
            ]
          },
          "metadata": {},
          "execution_count": 103
        }
      ]
    },
    {
      "cell_type": "code",
      "metadata": {
        "colab": {
          "base_uri": "https://localhost:8080/",
          "height": 293
        },
        "id": "S_avW9KQBK1M",
        "outputId": "e6b3662c-5ce0-4d65-abca-b81ed6241b3e"
      },
      "source": [
        "amd.financials.plot()"
      ],
      "execution_count": 90,
      "outputs": [
        {
          "output_type": "execute_result",
          "data": {
            "text/plain": [
              "<matplotlib.axes._subplots.AxesSubplot at 0x7f98064cbd90>"
            ]
          },
          "metadata": {},
          "execution_count": 90
        },
        {
          "output_type": "display_data",
          "data": {
            "image/png": "[encoded data removed]",
            "text/plain": [
              "<Figure size 432x288 with 1 Axes>"
            ]
          },
          "metadata": {
            "needs_background": "light"
          }
        }
      ]
    },
    {
      "cell_type": "code",
      "metadata": {
        "id": "3gaMvCYeEDyk"
      },
      "source": [
        ""
      ],
      "execution_count": null,
      "outputs": []
    },
    {
      "cell_type": "code",
      "metadata": {
        "colab": {
          "base_uri": "https://localhost:8080/"
        },
        "id": "nk6qxUsDDr_U",
        "outputId": "ab186ea5-f8b7-4339-ce13-bac33f2adf85"
      },
      "source": [
        "amd.quarterly_cashflow"
      ],
      "execution_count": 142,
      "outputs": [
        {
          "output_type": "execute_result",
          "data": {
            "text/plain": [
              "<bound method NDFrame.head of                                             2021-06-26  ...   2020-09-26\n",
              "Investments                                183000000.0  ... -475000000.0\n",
              "Change To Liabilities                     -120000000.0  ...  282000000.0\n",
              "Total Cashflows From Investing Activities  119000000.0  ... -549000000.0\n",
              "Total Cash From Financing Activities      -211000000.0  ... -269000000.0\n",
              "Change To Operating Activities              40000000.0  ... -231000000.0\n",
              "Issuance Of Stock                           49000000.0  ...    3000000.0\n",
              "Net Income                                 710000000.0  ...  390000000.0\n",
              "Change In Cash                             860000000.0  ... -479000000.0\n",
              "Repurchase Of Stock                       -260000000.0  ...  -73000000.0\n",
              "Total Cash From Operating Activities       952000000.0  ...  339000000.0\n",
              "Depreciation                               110000000.0  ...   93000000.0\n",
              "Change To Inventory                       -112000000.0  ...   32000000.0\n",
              "Change To Account Receivables              158000000.0  ... -351000000.0\n",
              "Change To Netincome                        165000000.0  ...  120000000.0\n",
              "Capital Expenditures                       -64000000.0  ...  -74000000.0\n",
              "Other Cashflows From Investing Activities          NaN  ...    2000000.0\n",
              "Net Borrowings                                     NaN  ... -200000000.0\n",
              "Other Cashflows From Financing Activities          NaN  ...    1000000.0\n",
              "\n",
              "[18 rows x 4 columns]>"
            ]
          },
          "metadata": {},
          "execution_count": 142
        }
      ]
    },
    {
      "cell_type": "code",
      "metadata": {
        "colab": {
          "base_uri": "https://localhost:8080/",
          "height": 293
        },
        "id": "rGdHrjtIEEyU",
        "outputId": "a6c23907-be72-4243-ff01-0f60a923473f"
      },
      "source": [
        "amd.cashflow.plot()"
      ],
      "execution_count": 93,
      "outputs": [
        {
          "output_type": "execute_result",
          "data": {
            "text/plain": [
              "<matplotlib.axes._subplots.AxesSubplot at 0x7f98063eef10>"
            ]
          },
          "metadata": {},
          "execution_count": 93
        },
        {
          "output_type": "display_data",
          "data": {
            "image/png": "[encoded data removed]",
            "text/plain": [
              "<Figure size 432x288 with 1 Axes>"
            ]
          },
          "metadata": {
            "needs_background": "light"
          }
        }
      ]
    },
    {
      "cell_type": "code",
      "metadata": {
        "colab": {
          "base_uri": "https://localhost:8080/"
        },
        "id": "4CcprXg7FWWL",
        "outputId": "d15a3d05-6861-46ec-f7e7-fb9545eabe83"
      },
      "source": [
        "amd.recommendations.head"
      ],
      "execution_count": 105,
      "outputs": [
        {
          "output_type": "execute_result",
          "data": {
            "text/plain": [
              "<bound method NDFrame.head of                                  Firm        To Grade    From Grade Action\n",
              "Date                                                                      \n",
              "2012-02-07 09:24:00  Longbow Research            Hold           Buy     up\n",
              "2012-03-15 06:18:00         Jefferies             Buy                   up\n",
              "2012-04-17 07:15:00       Sterne Agee             Buy                 main\n",
              "2012-04-20 06:17:00     Deutsche Bank            Hold                 main\n",
              "2012-04-20 06:40:00         Citigroup             Buy                 main\n",
              "...                               ...             ...           ...    ...\n",
              "2021-07-15 16:00:45         Citigroup         Neutral          Sell     up\n",
              "2021-07-28 11:17:22        Rosenblatt             Buy                 main\n",
              "2021-07-28 12:08:31       Susquehanna        Positive                 main\n",
              "2021-07-28 14:31:37         Benchmark             Buy                 main\n",
              "2021-08-09 10:08:04       BMO Capital  Market Perform  Underperform     up\n",
              "\n",
              "[241 rows x 4 columns]>"
            ]
          },
          "metadata": {},
          "execution_count": 105
        }
      ]
    },
    {
      "cell_type": "code",
      "metadata": {
        "colab": {
          "base_uri": "https://localhost:8080/",
          "height": 293
        },
        "id": "skPxgc5QFnpk",
        "outputId": "20558d44-bbdf-4e75-9d07-6460b6cd1acf"
      },
      "source": [
        "amd.quarterly_cashflow.plot()\n"
      ],
      "execution_count": 155,
      "outputs": [
        {
          "output_type": "execute_result",
          "data": {
            "text/plain": [
              "<matplotlib.axes._subplots.AxesSubplot at 0x7f9803220090>"
            ]
          },
          "metadata": {},
          "execution_count": 155
        },
        {
          "output_type": "display_data",
          "data": {
            "image/png": "[encoded data removed]",
            "text/plain": [
              "<Figure size 432x288 with 1 Axes>"
            ]
          },
          "metadata": {
            "needs_background": "light"
          }
        }
      ]
    },
    {
      "cell_type": "code",
      "metadata": {
        "colab": {
          "base_uri": "https://localhost:8080/",
          "height": 1000
        },
        "id": "mZ6yFvAKNiZC",
        "outputId": "031bee80-cf66-4984-88a4-16f234f8933d"
      },
      "source": [
        "bar_data=amd.recommendations.groupby(['Firm'])['To Grade'].sum().reset_index()\n",
        "bar_data"
      ],
      "execution_count": 156,
      "outputs": [
        {
          "output_type": "execute_result",
          "data": {
            "text/html": [
              "<div>\n",
              "<style scoped>\n",
              "    .dataframe tbody tr th:only-of-type {\n",
              "        vertical-align: middle;\n",
              "    }\n",
              "\n",
              "    .dataframe tbody tr th {\n",
              "        vertical-align: top;\n",
              "    }\n",
              "\n",
              "    .dataframe thead th {\n",
              "        text-align: right;\n",
              "    }\n",
              "</style>\n",
              "<table border=\"1\" class=\"dataframe\">\n",
              "  <thead>\n",
              "    <tr style=\"text-align: right;\">\n",
              "      <th></th>\n",
              "      <th>Firm</th>\n",
              "      <th>To Grade</th>\n",
              "    </tr>\n",
              "  </thead>\n",
              "  <tbody>\n",
              "    <tr>\n",
              "      <th>0</th>\n",
              "      <td>Argus</td>\n",
              "      <td>BuyBuy</td>\n",
              "    </tr>\n",
              "    <tr>\n",
              "      <th>1</th>\n",
              "      <td>Argus Research</td>\n",
              "      <td>Buy</td>\n",
              "    </tr>\n",
              "    <tr>\n",
              "      <th>2</th>\n",
              "      <td>Ascendiant Capital</td>\n",
              "      <td>BuyHold</td>\n",
              "    </tr>\n",
              "    <tr>\n",
              "      <th>3</th>\n",
              "      <td>Atlantic Equities</td>\n",
              "      <td>NeutralOverweight</td>\n",
              "    </tr>\n",
              "    <tr>\n",
              "      <th>4</th>\n",
              "      <td>B of A Securities</td>\n",
              "      <td>BuyBuyBuyBuyBuyBuy</td>\n",
              "    </tr>\n",
              "    <tr>\n",
              "      <th>5</th>\n",
              "      <td>BMO Capital</td>\n",
              "      <td>OutperformMarket PerformMarket PerformUnderper...</td>\n",
              "    </tr>\n",
              "    <tr>\n",
              "      <th>6</th>\n",
              "      <td>Baird</td>\n",
              "      <td>OutperformNeutralNeutral</td>\n",
              "    </tr>\n",
              "    <tr>\n",
              "      <th>7</th>\n",
              "      <td>Bank of America</td>\n",
              "      <td>BuyNeutralUnderperformBuyBuy</td>\n",
              "    </tr>\n",
              "    <tr>\n",
              "      <th>8</th>\n",
              "      <td>Barclays</td>\n",
              "      <td>Equal-WeightEqual-WeightUnderweightUnderweight...</td>\n",
              "    </tr>\n",
              "    <tr>\n",
              "      <th>9</th>\n",
              "      <td>Benchmark</td>\n",
              "      <td>HoldBuy</td>\n",
              "    </tr>\n",
              "    <tr>\n",
              "      <th>10</th>\n",
              "      <td>Bernstein</td>\n",
              "      <td>UnderperformMarket PerformUnderperformMarket P...</td>\n",
              "    </tr>\n",
              "    <tr>\n",
              "      <th>11</th>\n",
              "      <td>CFRA</td>\n",
              "      <td>BuyBuy</td>\n",
              "    </tr>\n",
              "    <tr>\n",
              "      <th>12</th>\n",
              "      <td>Canaccord Genuity</td>\n",
              "      <td>BuyHoldHoldBuyHoldHoldHold</td>\n",
              "    </tr>\n",
              "    <tr>\n",
              "      <th>13</th>\n",
              "      <td>Citigroup</td>\n",
              "      <td>BuyBuyBuyBuyBuyNeutralNeutralNeutralNeutralBuy...</td>\n",
              "    </tr>\n",
              "    <tr>\n",
              "      <th>14</th>\n",
              "      <td>Cowen &amp; Co.</td>\n",
              "      <td>OutperformOutperformOutperformOutperform</td>\n",
              "    </tr>\n",
              "    <tr>\n",
              "      <th>15</th>\n",
              "      <td>Craig-Hallum</td>\n",
              "      <td>HoldBuyHoldBuyBuy</td>\n",
              "    </tr>\n",
              "    <tr>\n",
              "      <th>16</th>\n",
              "      <td>Credit Suisse</td>\n",
              "      <td>UnderperformUnderperformUnderperformNeutralNeu...</td>\n",
              "    </tr>\n",
              "    <tr>\n",
              "      <th>17</th>\n",
              "      <td>Deutsche Bank</td>\n",
              "      <td>HoldHoldHoldHoldHoldHoldHold</td>\n",
              "    </tr>\n",
              "    <tr>\n",
              "      <th>18</th>\n",
              "      <td>Exane BNP Paribas</td>\n",
              "      <td>UnderperformNeutralNeutral</td>\n",
              "    </tr>\n",
              "    <tr>\n",
              "      <th>19</th>\n",
              "      <td>FBR Capital</td>\n",
              "      <td>OutperformOutperformOutperformOutperformMarket...</td>\n",
              "    </tr>\n",
              "    <tr>\n",
              "      <th>20</th>\n",
              "      <td>Goldman Sachs</td>\n",
              "      <td>SellNeutralSellSellNeutralBuy</td>\n",
              "    </tr>\n",
              "    <tr>\n",
              "      <th>21</th>\n",
              "      <td>Imperial Capital</td>\n",
              "      <td>OutperformOutperform</td>\n",
              "    </tr>\n",
              "    <tr>\n",
              "      <th>22</th>\n",
              "      <td>JP Morgan</td>\n",
              "      <td>NeutralNeutralNeutralNeutralNeutralNeutral</td>\n",
              "    </tr>\n",
              "    <tr>\n",
              "      <th>23</th>\n",
              "      <td>Jefferies</td>\n",
              "      <td>BuyBuyBuyBuyBuyBuy</td>\n",
              "    </tr>\n",
              "    <tr>\n",
              "      <th>24</th>\n",
              "      <td>KeyBanc</td>\n",
              "      <td>Sector Weight</td>\n",
              "    </tr>\n",
              "    <tr>\n",
              "      <th>25</th>\n",
              "      <td>Longbow Research</td>\n",
              "      <td>HoldNeutral</td>\n",
              "    </tr>\n",
              "    <tr>\n",
              "      <th>26</th>\n",
              "      <td>Loop Capital</td>\n",
              "      <td>BuyHoldHoldHoldBuyBuy</td>\n",
              "    </tr>\n",
              "    <tr>\n",
              "      <th>27</th>\n",
              "      <td>MKM Partners</td>\n",
              "      <td>NeutralBuyBuy</td>\n",
              "    </tr>\n",
              "    <tr>\n",
              "      <th>28</th>\n",
              "      <td>Macquarie</td>\n",
              "      <td>OutperformNeutralNeutralNeutralUnderperformNeu...</td>\n",
              "    </tr>\n",
              "    <tr>\n",
              "      <th>29</th>\n",
              "      <td>Maxim Group</td>\n",
              "      <td>Market Perform</td>\n",
              "    </tr>\n",
              "    <tr>\n",
              "      <th>30</th>\n",
              "      <td>Mizuho</td>\n",
              "      <td>NeutralNeutralBuyBuyBuyNeutralNeutralBuyBuyBuyBuy</td>\n",
              "    </tr>\n",
              "    <tr>\n",
              "      <th>31</th>\n",
              "      <td>Morgan Stanley</td>\n",
              "      <td>UnderweightUnderweightEqual-WeightUnderweightU...</td>\n",
              "    </tr>\n",
              "    <tr>\n",
              "      <th>32</th>\n",
              "      <td>Nomura</td>\n",
              "      <td>NeutralNeutralBuyBuyBuyBuy</td>\n",
              "    </tr>\n",
              "    <tr>\n",
              "      <th>33</th>\n",
              "      <td>Nomura Instinet</td>\n",
              "      <td>Buy</td>\n",
              "    </tr>\n",
              "    <tr>\n",
              "      <th>34</th>\n",
              "      <td>Northland</td>\n",
              "      <td>Market PerformOutperform</td>\n",
              "    </tr>\n",
              "    <tr>\n",
              "      <th>35</th>\n",
              "      <td>Northland Capital Markets</td>\n",
              "      <td>Market PerformOutperform</td>\n",
              "    </tr>\n",
              "    <tr>\n",
              "      <th>36</th>\n",
              "      <td>Northland Securities</td>\n",
              "      <td>OutperformMarket Perform</td>\n",
              "    </tr>\n",
              "    <tr>\n",
              "      <th>37</th>\n",
              "      <td>Oppenheimer</td>\n",
              "      <td>UnderperformPerform</td>\n",
              "    </tr>\n",
              "    <tr>\n",
              "      <th>38</th>\n",
              "      <td>Pacific Crest</td>\n",
              "      <td>UnderperformSector Perform</td>\n",
              "    </tr>\n",
              "    <tr>\n",
              "      <th>39</th>\n",
              "      <td>Piper Jaffray</td>\n",
              "      <td>Neutral</td>\n",
              "    </tr>\n",
              "    <tr>\n",
              "      <th>40</th>\n",
              "      <td>Piper Sandler</td>\n",
              "      <td>OverweightOverweightOverweightOverweight</td>\n",
              "    </tr>\n",
              "    <tr>\n",
              "      <th>41</th>\n",
              "      <td>RBC Capital</td>\n",
              "      <td>OutperformOutperformOutperformOutperform</td>\n",
              "    </tr>\n",
              "    <tr>\n",
              "      <th>42</th>\n",
              "      <td>Raymond James</td>\n",
              "      <td>OutperformOutperform</td>\n",
              "    </tr>\n",
              "    <tr>\n",
              "      <th>43</th>\n",
              "      <td>Rosenblatt</td>\n",
              "      <td>BuyBuyBuyBuyBuyBuy</td>\n",
              "    </tr>\n",
              "    <tr>\n",
              "      <th>44</th>\n",
              "      <td>Sterne Agee</td>\n",
              "      <td>BuyNeutralNeutralNeutral</td>\n",
              "    </tr>\n",
              "    <tr>\n",
              "      <th>45</th>\n",
              "      <td>Stifel Nicolaus</td>\n",
              "      <td>BuyBuyBuyBuyBuy</td>\n",
              "    </tr>\n",
              "    <tr>\n",
              "      <th>46</th>\n",
              "      <td>Susquehanna</td>\n",
              "      <td>NeutralNegativeNeutralNeutralPositivePositiveP...</td>\n",
              "    </tr>\n",
              "    <tr>\n",
              "      <th>47</th>\n",
              "      <td>Truist Securities</td>\n",
              "      <td>Hold</td>\n",
              "    </tr>\n",
              "    <tr>\n",
              "      <th>48</th>\n",
              "      <td>UBS</td>\n",
              "      <td>BuyBuyNeutralNeutralSellSellNeutralNeutralNeut...</td>\n",
              "    </tr>\n",
              "    <tr>\n",
              "      <th>49</th>\n",
              "      <td>Wedbush</td>\n",
              "      <td>OutperformNeutralNeutralNeutralOutperformNeutr...</td>\n",
              "    </tr>\n",
              "    <tr>\n",
              "      <th>50</th>\n",
              "      <td>Wells Fargo</td>\n",
              "      <td>OutperformOutperformOutperformOverweightEqual-...</td>\n",
              "    </tr>\n",
              "    <tr>\n",
              "      <th>51</th>\n",
              "      <td>Williams Capital</td>\n",
              "      <td>Buy</td>\n",
              "    </tr>\n",
              "    <tr>\n",
              "      <th>52</th>\n",
              "      <td>Williams Financial</td>\n",
              "      <td>BuyBuy</td>\n",
              "    </tr>\n",
              "  </tbody>\n",
              "</table>\n",
              "</div>"
            ],
            "text/plain": [
              "                         Firm                                           To Grade\n",
              "0                       Argus                                             BuyBuy\n",
              "1              Argus Research                                                Buy\n",
              "2          Ascendiant Capital                                            BuyHold\n",
              "3           Atlantic Equities                                  NeutralOverweight\n",
              "4           B of A Securities                                 BuyBuyBuyBuyBuyBuy\n",
              "5                 BMO Capital  OutperformMarket PerformMarket PerformUnderper...\n",
              "6                       Baird                           OutperformNeutralNeutral\n",
              "7             Bank of America                       BuyNeutralUnderperformBuyBuy\n",
              "8                    Barclays  Equal-WeightEqual-WeightUnderweightUnderweight...\n",
              "9                   Benchmark                                            HoldBuy\n",
              "10                  Bernstein  UnderperformMarket PerformUnderperformMarket P...\n",
              "11                       CFRA                                             BuyBuy\n",
              "12          Canaccord Genuity                         BuyHoldHoldBuyHoldHoldHold\n",
              "13                  Citigroup  BuyBuyBuyBuyBuyNeutralNeutralNeutralNeutralBuy...\n",
              "14                Cowen & Co.           OutperformOutperformOutperformOutperform\n",
              "15               Craig-Hallum                                  HoldBuyHoldBuyBuy\n",
              "16              Credit Suisse  UnderperformUnderperformUnderperformNeutralNeu...\n",
              "17              Deutsche Bank                       HoldHoldHoldHoldHoldHoldHold\n",
              "18          Exane BNP Paribas                         UnderperformNeutralNeutral\n",
              "19                FBR Capital  OutperformOutperformOutperformOutperformMarket...\n",
              "20              Goldman Sachs                      SellNeutralSellSellNeutralBuy\n",
              "21           Imperial Capital                               OutperformOutperform\n",
              "22                  JP Morgan         NeutralNeutralNeutralNeutralNeutralNeutral\n",
              "23                  Jefferies                                 BuyBuyBuyBuyBuyBuy\n",
              "24                    KeyBanc                                      Sector Weight\n",
              "25           Longbow Research                                        HoldNeutral\n",
              "26               Loop Capital                              BuyHoldHoldHoldBuyBuy\n",
              "27               MKM Partners                                      NeutralBuyBuy\n",
              "28                  Macquarie  OutperformNeutralNeutralNeutralUnderperformNeu...\n",
              "29                Maxim Group                                     Market Perform\n",
              "30                     Mizuho  NeutralNeutralBuyBuyBuyNeutralNeutralBuyBuyBuyBuy\n",
              "31             Morgan Stanley  UnderweightUnderweightEqual-WeightUnderweightU...\n",
              "32                     Nomura                         NeutralNeutralBuyBuyBuyBuy\n",
              "33            Nomura Instinet                                                Buy\n",
              "34                  Northland                           Market PerformOutperform\n",
              "35  Northland Capital Markets                           Market PerformOutperform\n",
              "36       Northland Securities                           OutperformMarket Perform\n",
              "37                Oppenheimer                                UnderperformPerform\n",
              "38              Pacific Crest                         UnderperformSector Perform\n",
              "39              Piper Jaffray                                            Neutral\n",
              "40              Piper Sandler           OverweightOverweightOverweightOverweight\n",
              "41                RBC Capital           OutperformOutperformOutperformOutperform\n",
              "42              Raymond James                               OutperformOutperform\n",
              "43                 Rosenblatt                                 BuyBuyBuyBuyBuyBuy\n",
              "44                Sterne Agee                           BuyNeutralNeutralNeutral\n",
              "45            Stifel Nicolaus                                    BuyBuyBuyBuyBuy\n",
              "46                Susquehanna  NeutralNegativeNeutralNeutralPositivePositiveP...\n",
              "47          Truist Securities                                               Hold\n",
              "48                        UBS  BuyBuyNeutralNeutralSellSellNeutralNeutralNeut...\n",
              "49                    Wedbush  OutperformNeutralNeutralNeutralOutperformNeutr...\n",
              "50                Wells Fargo  OutperformOutperformOutperformOverweightEqual-...\n",
              "51           Williams Capital                                                Buy\n",
              "52         Williams Financial                                             BuyBuy"
            ]
          },
          "metadata": {},
          "execution_count": 156
        }
      ]
    },
    {
      "cell_type": "code",
      "metadata": {
        "id": "vluq6KBjOtaS"
      },
      "source": [
        "bar_data['Firm']=bar_data['Firm'].fillna(0)"
      ],
      "execution_count": 157,
      "outputs": []
    },
    {
      "cell_type": "code",
      "metadata": {
        "colab": {
          "base_uri": "https://localhost:8080/",
          "height": 180
        },
        "id": "lgGb80O6OteM",
        "outputId": "bf1b1ec0-97b3-44e9-f431-6a1d7cf1219e"
      },
      "source": [
        "fig = px.sunburst(bar_data, path=['Firm', 'Value'], values='Flights')\n",
        "fig.show()"
      ],
      "execution_count": 158,
      "outputs": [
        {
          "output_type": "error",
          "ename": "TypeError",
          "evalue": "ignored",
          "traceback": [
            "\u001b[0;31m---------------------------------------------------------------------------\u001b[0m",
            "\u001b[0;31mTypeError\u001b[0m                                 Traceback (most recent call last)",
            "\u001b[0;32m<ipython-input-158-bb481a5bec6d>\u001b[0m in \u001b[0;36m<module>\u001b[0;34m()\u001b[0m\n\u001b[0;32m----> 1\u001b[0;31m \u001b[0mfig\u001b[0m \u001b[0;34m=\u001b[0m \u001b[0mpx\u001b[0m\u001b[0;34m.\u001b[0m\u001b[0msunburst\u001b[0m\u001b[0;34m(\u001b[0m\u001b[0mbar_data\u001b[0m\u001b[0;34m,\u001b[0m \u001b[0mpath\u001b[0m\u001b[0;34m=\u001b[0m\u001b[0;34m[\u001b[0m\u001b[0;34m'Firm'\u001b[0m\u001b[0;34m,\u001b[0m \u001b[0;34m'Value'\u001b[0m\u001b[0;34m]\u001b[0m\u001b[0;34m,\u001b[0m \u001b[0mvalues\u001b[0m\u001b[0;34m=\u001b[0m\u001b[0;34m'Flights'\u001b[0m\u001b[0;34m)\u001b[0m\u001b[0;34m\u001b[0m\u001b[0;34m\u001b[0m\u001b[0m\n\u001b[0m\u001b[1;32m      2\u001b[0m \u001b[0mfig\u001b[0m\u001b[0;34m.\u001b[0m\u001b[0mshow\u001b[0m\u001b[0;34m(\u001b[0m\u001b[0;34m)\u001b[0m\u001b[0;34m\u001b[0m\u001b[0;34m\u001b[0m\u001b[0m\n",
            "\u001b[0;31mTypeError\u001b[0m: sunburst() got an unexpected keyword argument 'path'"
          ]
        }
      ]
    },
    {
      "cell_type": "code",
      "metadata": {
        "id": "TIHRLhpga3h-"
      },
      "source": [
        "ibm = yf.Ticker(\"IBM\")\n"
      ],
      "execution_count": 197,
      "outputs": []
    },
    {
      "cell_type": "code",
      "metadata": {
        "colab": {
          "base_uri": "https://localhost:8080/"
        },
        "id": "_ljW8hBQa93l",
        "outputId": "f0f95241-2f1a-4f04-ccea-e779616c744c"
      },
      "source": [
        "print(ibm.info)"
      ],
      "execution_count": 198,
      "outputs": [
        {
          "output_type": "stream",
          "name": "stdout",
          "text": [
            "{'zip': '10504', 'sector': 'Technology', 'fullTimeEmployees': 345900, 'longBusinessSummary': \"International Business Machines Corporation provides integrated solutions and services worldwide. Its Cloud & Cognitive Software segment offers software for vertical and domain-specific solutions in various application areas; and customer information control system and storage, and analytics and integration software solutions to support client mission on-premise workloads in banking, airline, and retail industries. It also offers middleware and data platform software, including Red Hat that enables the operation of clients' hybrid multi-cloud environments; and Cloud Paks, WebSphere distributed, and analytics platform software, such as DB2 distributed, information integration, and enterprise content management, as well as IoT, Blockchain and AI/Watson platforms. The company's Global Business Services segment offers business consulting services; system integration, application management, maintenance, and support services for packaged software; and finance, procurement, talent and engagement, and industry-specific business process outsourcing services. Its Global Technology Services segment provides IT infrastructure and platform services; and project, managed, outsourcing, and cloud-delivered services for enterprise IT infrastructure environments; and IT infrastructure support services. The company's Systems segment offers servers for businesses, cloud service providers, and scientific computing organizations; data storage products and solutions; and z/OS, an enterprise operating system, as well as Linux. Its Global Financing segment provides lease, installment payment, loan financing, short-term working capital financing, and remanufacturing and remarketing services. The company has a collaboration alliance with GK Software SE to enhance retail innovation and customer omnichannel experience with hybrid cloud technology. The company was formerly known as Computing-Tabulating-Recording Co. The company was incorporated in 1911 and is headquartered in Armonk, New York.\", 'city': 'Armonk', 'phone': '914 499 1900', 'state': 'NY', 'country': 'United States', 'companyOfficers': [], 'website': 'http://www.ibm.com', 'maxAge': 1, 'address1': 'One New Orchard Road', 'industry': 'Information Technology Services', 'ebitdaMargins': 0.21494, 'profitMargins': 0.07169, 'grossMargins': 0.48683, 'operatingCashflow': 17684000768, 'revenueGrowth': 0.034, 'operatingMargins': 0.12443, 'ebitda': 15992000512, 'targetLowPrice': 115, 'recommendationKey': 'hold', 'grossProfits': 35575000000, 'freeCashflow': 13636625408, 'targetMedianPrice': 150, 'currentPrice': 138.06, 'earningsGrowth': -0.032, 'currentRatio': 0.84, 'returnOnAssets': 0.03845, 'numberOfAnalystOpinions': 17, 'targetMeanPrice': 150.03, 'debtToEquity': 270.943, 'returnOnEquity': 0.24530001, 'targetHighPrice': 176, 'totalCash': 7950000128, 'totalDebt': 59789000704, 'totalRevenue': 74400997376, 'totalCashPerShare': 8.87, 'financialCurrency': 'USD', 'revenuePerShare': 83.3, 'quickRatio': 0.664, 'recommendationMean': 2.6, 'exchange': 'NYQ', 'shortName': 'International Business Machines', 'longName': 'International Business Machines Corporation', 'exchangeTimezoneName': 'America/New_York', 'exchangeTimezoneShortName': 'EDT', 'isEsgPopulated': False, 'gmtOffSetMilliseconds': '-14400000', 'quoteType': 'EQUITY', 'symbol': 'IBM', 'messageBoardId': 'finmb_112350', 'market': 'us_market', 'annualHoldingsTurnover': None, 'enterpriseToRevenue': 2.38, 'beta3Year': None, 'enterpriseToEbitda': 11.073, '52WeekChange': 0.15155518, 'morningStarRiskRating': None, 'forwardEps': 11.84, 'revenueQuarterlyGrowth': None, 'sharesOutstanding': 896320000, 'fundInceptionDate': None, 'annualReportExpenseRatio': None, 'totalAssets': None, 'bookValue': 24.48, 'sharesShort': 25600763, 'sharesPercentSharesOut': 0.0286, 'fundFamily': None, 'lastFiscalYearEnd': 1609372800, 'heldPercentInstitutions': 0.57706, 'netIncomeToCommon': 5244000256, 'trailingEps': 5.917, 'lastDividendValue': None, 'SandP52WeekChange': 0.36123884, 'priceToBook': 5.6397057, 'heldPercentInsiders': 0.00133, 'nextFiscalYearEnd': 1672444800, 'yield': None, 'mostRecentQuarter': 1625011200, 'shortRatio': 6.08, 'sharesShortPreviousMonthDate': 1626307200, 'floatShares': 894742550, 'beta': 1.212336, 'enterpriseValue': 177072357376, 'priceHint': 2, 'threeYearAverageReturn': None, 'lastSplitDate': None, 'lastSplitFactor': None, 'legalType': None, 'lastDividendDate': None, 'morningStarOverallRating': None, 'earningsQuarterlyGrowth': -0.026, 'priceToSalesTrailing12Months': 1.6632295, 'dateShortInterest': 1628812800, 'pegRatio': 0.8, 'ytdReturn': None, 'forwardPE': 11.660473, 'lastCapGain': None, 'shortPercentOfFloat': 0.0286, 'sharesShortPriorMonth': 26193861, 'impliedSharesOutstanding': None, 'category': None, 'fiveYearAverageReturn': None, 'previousClose': 139.58, 'regularMarketOpen': 139.65, 'twoHundredDayAverage': 138.8982, 'trailingAnnualDividendYield': 0.04678321, 'payoutRatio': 1.122, 'volume24Hr': None, 'regularMarketDayHigh': 139.79, 'navPrice': None, 'averageDailyVolume10Day': 2668360, 'regularMarketPreviousClose': 139.58, 'fiftyDayAverage': 141.02457, 'trailingAnnualDividendRate': 6.53, 'open': 139.65, 'toCurrency': None, 'averageVolume10days': 2668360, 'expireDate': None, 'algorithm': None, 'dividendRate': 6.56, 'exDividendDate': 1628467200, 'circulatingSupply': None, 'startDate': None, 'regularMarketDayLow': 137.7614, 'currency': 'USD', 'trailingPE': 23.33277, 'regularMarketVolume': 3226964, 'lastMarket': None, 'maxSupply': None, 'openInterest': None, 'marketCap': 123745935360, 'volumeAllCurrencies': None, 'strikePrice': None, 'averageVolume': 4053235, 'dayLow': 137.7614, 'ask': 138.1, 'askSize': 800, 'volume': 3226964, 'fiftyTwoWeekHigh': 152.84, 'fromCurrency': None, 'fiveYearAvgDividendYield': 4.45, 'fiftyTwoWeekLow': 105.92, 'bid': 138, 'tradeable': False, 'dividendYield': 0.047, 'bidSize': 1100, 'dayHigh': 139.79, 'regularMarketPrice': 138.06, 'logo_url': 'https://logo.clearbit.com/ibm.com'}\n"
          ]
        }
      ]
    },
    {
      "cell_type": "code",
      "metadata": {
        "colab": {
          "base_uri": "https://localhost:8080/",
          "height": 285
        },
        "id": "aF_tULwSa9_9",
        "outputId": "9a8dec6c-afa7-4159-f2fb-bddcc4249e2f"
      },
      "source": [
        "history = ibm.history(period=\"max\")\n",
        "history.reset_index(inplace=True)\n",
        "history.plot(x=\"Date\", y=\"Open\")"
      ],
      "execution_count": 199,
      "outputs": [
        {
          "output_type": "execute_result",
          "data": {
            "text/plain": [
              "<matplotlib.axes._subplots.AxesSubplot at 0x7f9802c5fa10>"
            ]
          },
          "metadata": {},
          "execution_count": 199
        },
        {
          "output_type": "display_data",
          "data": {
            "image/png": "[encoded data removed]",
            "text/plain": [
              "<Figure size 432x288 with 1 Axes>"
            ]
          },
          "metadata": {
            "needs_background": "light"
          }
        }
      ]
    },
    {
      "cell_type": "code",
      "metadata": {
        "colab": {
          "base_uri": "https://localhost:8080/",
          "height": 359
        },
        "id": "cgv-g8Qsa-Lw",
        "outputId": "5107ce17-6a87-4564-a09d-d3a015ee3311"
      },
      "source": [
        "ibm.institutional_holders"
      ],
      "execution_count": 200,
      "outputs": [
        {
          "output_type": "execute_result",
          "data": {
            "text/html": [
              "<div>\n",
              "<style scoped>\n",
              "    .dataframe tbody tr th:only-of-type {\n",
              "        vertical-align: middle;\n",
              "    }\n",
              "\n",
              "    .dataframe tbody tr th {\n",
              "        vertical-align: top;\n",
              "    }\n",
              "\n",
              "    .dataframe thead th {\n",
              "        text-align: right;\n",
              "    }\n",
              "</style>\n",
              "<table border=\"1\" class=\"dataframe\">\n",
              "  <thead>\n",
              "    <tr style=\"text-align: right;\">\n",
              "      <th></th>\n",
              "      <th>Holder</th>\n",
              "      <th>Shares</th>\n",
              "      <th>Date Reported</th>\n",
              "      <th>% Out</th>\n",
              "      <th>Value</th>\n",
              "    </tr>\n",
              "  </thead>\n",
              "  <tbody>\n",
              "    <tr>\n",
              "      <th>0</th>\n",
              "      <td>Vanguard Group, Inc. (The)</td>\n",
              "      <td>74774326</td>\n",
              "      <td>2021-06-29</td>\n",
              "      <td>0.0834</td>\n",
              "      <td>10961168448</td>\n",
              "    </tr>\n",
              "    <tr>\n",
              "      <th>1</th>\n",
              "      <td>Blackrock Inc.</td>\n",
              "      <td>63805232</td>\n",
              "      <td>2021-06-29</td>\n",
              "      <td>0.0712</td>\n",
              "      <td>9353208958</td>\n",
              "    </tr>\n",
              "    <tr>\n",
              "      <th>2</th>\n",
              "      <td>State Street Corporation</td>\n",
              "      <td>51879965</td>\n",
              "      <td>2021-06-29</td>\n",
              "      <td>0.0579</td>\n",
              "      <td>7605084069</td>\n",
              "    </tr>\n",
              "    <tr>\n",
              "      <th>3</th>\n",
              "      <td>Geode Capital Management, LLC</td>\n",
              "      <td>14364580</td>\n",
              "      <td>2021-06-29</td>\n",
              "      <td>0.0160</td>\n",
              "      <td>2105703782</td>\n",
              "    </tr>\n",
              "    <tr>\n",
              "      <th>4</th>\n",
              "      <td>Charles Schwab Investment Management, Inc.</td>\n",
              "      <td>13446039</td>\n",
              "      <td>2021-06-29</td>\n",
              "      <td>0.0150</td>\n",
              "      <td>1971054857</td>\n",
              "    </tr>\n",
              "    <tr>\n",
              "      <th>5</th>\n",
              "      <td>Morgan Stanley</td>\n",
              "      <td>12036449</td>\n",
              "      <td>2021-06-29</td>\n",
              "      <td>0.0134</td>\n",
              "      <td>1764423058</td>\n",
              "    </tr>\n",
              "    <tr>\n",
              "      <th>6</th>\n",
              "      <td>Northern Trust Corporation</td>\n",
              "      <td>10403952</td>\n",
              "      <td>2021-06-29</td>\n",
              "      <td>0.0116</td>\n",
              "      <td>1525115323</td>\n",
              "    </tr>\n",
              "    <tr>\n",
              "      <th>7</th>\n",
              "      <td>Norges Bank Investment Management</td>\n",
              "      <td>8865649</td>\n",
              "      <td>2020-12-30</td>\n",
              "      <td>0.0099</td>\n",
              "      <td>1116007896</td>\n",
              "    </tr>\n",
              "    <tr>\n",
              "      <th>8</th>\n",
              "      <td>Bank Of New York Mellon Corporation</td>\n",
              "      <td>8777355</td>\n",
              "      <td>2021-06-29</td>\n",
              "      <td>0.0098</td>\n",
              "      <td>1286672469</td>\n",
              "    </tr>\n",
              "    <tr>\n",
              "      <th>9</th>\n",
              "      <td>Bank of America Corporation</td>\n",
              "      <td>8365555</td>\n",
              "      <td>2021-06-29</td>\n",
              "      <td>0.0093</td>\n",
              "      <td>1226306707</td>\n",
              "    </tr>\n",
              "  </tbody>\n",
              "</table>\n",
              "</div>"
            ],
            "text/plain": [
              "                                       Holder    Shares  ...   % Out        Value\n",
              "0                  Vanguard Group, Inc. (The)  74774326  ...  0.0834  10961168448\n",
              "1                              Blackrock Inc.  63805232  ...  0.0712   9353208958\n",
              "2                    State Street Corporation  51879965  ...  0.0579   7605084069\n",
              "3               Geode Capital Management, LLC  14364580  ...  0.0160   2105703782\n",
              "4  Charles Schwab Investment Management, Inc.  13446039  ...  0.0150   1971054857\n",
              "5                              Morgan Stanley  12036449  ...  0.0134   1764423058\n",
              "6                  Northern Trust Corporation  10403952  ...  0.0116   1525115323\n",
              "7           Norges Bank Investment Management   8865649  ...  0.0099   1116007896\n",
              "8         Bank Of New York Mellon Corporation   8777355  ...  0.0098   1286672469\n",
              "9                 Bank of America Corporation   8365555  ...  0.0093   1226306707\n",
              "\n",
              "[10 rows x 5 columns]"
            ]
          },
          "metadata": {},
          "execution_count": 200
        }
      ]
    },
    {
      "cell_type": "code",
      "metadata": {
        "id": "Stag-eHicODr"
      },
      "source": [
        ""
      ],
      "execution_count": 192,
      "outputs": []
    },
    {
      "cell_type": "markdown",
      "metadata": {
        "id": "S6QeyZ915DXW"
      },
      "source": [
        "<h2>About the Authors:</h2> \n",
        "\n",
        "<a href=\"https://www.linkedin.com/in/joseph-s-50398b136/?utm_medium=Exinfluencer&utm_source=Exinfluencer&utm_content=000026UJ&utm_term=10006555&utm_id=NA-SkillsNetwork-Channel-SkillsNetworkCoursesIBMDeveloperSkillsNetworkPY0220ENSkillsNetwork23455606-2021-01-01\">Joseph Santarcangelo</a> has a PhD in Electrical Engineering, his research focused on using machine learning, signal processing, and computer vision to determine how videos impact human cognition. Joseph has been working for IBM since he completed his PhD.\n",
        "\n",
        "Azim Hirjani\n"
      ]
    },
    {
      "cell_type": "markdown",
      "metadata": {
        "id": "QdRPTFbC5DXX"
      },
      "source": [
        "## Change Log\n",
        "\n",
        "| Date (YYYY-MM-DD) | Version | Changed By    | Change Description        |\n",
        "| ----------------- | ------- | ------------- | ------------------------- |\n",
        "| 2020-11-10        | 1.1     | Malika Singla | Deleted the Optional part |\n",
        "| 2020-08-27        | 1.0     | Malika Singla | Added lab to GitLab       |\n",
        "\n",
        "<hr>\n",
        "\n",
        "## <h3 align=\"center\"> © IBM Corporation 2020. All rights reserved. <h3/>\n",
        "\n",
        "<p>\n"
      ]
    }
  ]
}